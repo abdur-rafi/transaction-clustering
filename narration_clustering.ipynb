{
  "cells": [
    {
      "attachments": {},
      "cell_type": "markdown",
      "metadata": {
        "id": "fZ0JxjlSXb-I"
      },
      "source": [
        "## Loading Data set"
      ]
    },
    {
      "cell_type": "code",
      "execution_count": null,
      "metadata": {
        "id": "4WLpOHSPB_NG"
      },
      "outputs": [],
      "source": [
        "TRAINING_DATA_PATH = '/content/sample_data/Transaction_Naration_Data_Set.csv'"
      ]
    },
    {
      "cell_type": "code",
      "execution_count": 7,
      "metadata": {
        "id": "k58tg0GOm4Fy"
      },
      "outputs": [],
      "source": [
        "import pandas as pd"
      ]
    },
    {
      "cell_type": "code",
      "execution_count": 8,
      "metadata": {
        "id": "1hCuGHj8nJiU"
      },
      "outputs": [],
      "source": [
        "data = pd.read_csv(TRAINING_DATA_PATH)"
      ]
    },
    {
      "cell_type": "code",
      "execution_count": 9,
      "metadata": {
        "colab": {
          "base_uri": "https://localhost:8080/",
          "height": 0
        },
        "id": "T6rQStvdnNKl",
        "outputId": "412e3f85-f8ce-42ce-8ebd-e9cc8f24c46c"
      },
      "outputs": [
        {
          "data": {
            "text/html": [
              "\n",
              "  <div id=\"df-2652a0e3-b9ef-4583-b093-72a6d81378d4\">\n",
              "    <div class=\"colab-df-container\">\n",
              "      <div>\n",
              "<style scoped>\n",
              "    .dataframe tbody tr th:only-of-type {\n",
              "        vertical-align: middle;\n",
              "    }\n",
              "\n",
              "    .dataframe tbody tr th {\n",
              "        vertical-align: top;\n",
              "    }\n",
              "\n",
              "    .dataframe thead th {\n",
              "        text-align: right;\n",
              "    }\n",
              "</style>\n",
              "<table border=\"1\" class=\"dataframe\">\n",
              "  <thead>\n",
              "    <tr style=\"text-align: right;\">\n",
              "      <th></th>\n",
              "      <th>Unnamed: 0</th>\n",
              "      <th>AC_ID</th>\n",
              "      <th>AMOUNT</th>\n",
              "      <th>DOC_DATE</th>\n",
              "      <th>NARATION</th>\n",
              "      <th>DR_CR</th>\n",
              "    </tr>\n",
              "  </thead>\n",
              "  <tbody>\n",
              "    <tr>\n",
              "      <th>0</th>\n",
              "      <td>0</td>\n",
              "      <td>3644877</td>\n",
              "      <td>342800.00</td>\n",
              "      <td>01-NOV-22</td>\n",
              "      <td>Cash Withdraw</td>\n",
              "      <td>Debit</td>\n",
              "    </tr>\n",
              "    <tr>\n",
              "      <th>1</th>\n",
              "      <td>1</td>\n",
              "      <td>1175256</td>\n",
              "      <td>342800.00</td>\n",
              "      <td>01-NOV-22</td>\n",
              "      <td>Cash Withdrawal From A/C No.:</td>\n",
              "      <td>Credit</td>\n",
              "    </tr>\n",
              "    <tr>\n",
              "      <th>2</th>\n",
              "      <td>2</td>\n",
              "      <td>2298226</td>\n",
              "      <td>1500.00</td>\n",
              "      <td>01-NOV-22</td>\n",
              "      <td>Cash withdraw from Micro Merchant point, MM A/C</td>\n",
              "      <td>Debit</td>\n",
              "    </tr>\n",
              "    <tr>\n",
              "      <th>3</th>\n",
              "      <td>3</td>\n",
              "      <td>4066427</td>\n",
              "      <td>1500.00</td>\n",
              "      <td>01-NOV-22</td>\n",
              "      <td>Credit Against Merchant Cash Withdraw Service ...</td>\n",
              "      <td>Credit</td>\n",
              "    </tr>\n",
              "    <tr>\n",
              "      <th>4</th>\n",
              "      <td>4</td>\n",
              "      <td>1978564</td>\n",
              "      <td>2550.00</td>\n",
              "      <td>01-NOV-22</td>\n",
              "      <td>Cash withdraw from Micro Merchant point, MM A/C</td>\n",
              "      <td>Debit</td>\n",
              "    </tr>\n",
              "    <tr>\n",
              "      <th>...</th>\n",
              "      <td>...</td>\n",
              "      <td>...</td>\n",
              "      <td>...</td>\n",
              "      <td>...</td>\n",
              "      <td>...</td>\n",
              "      <td>...</td>\n",
              "    </tr>\n",
              "    <tr>\n",
              "      <th>22546753</th>\n",
              "      <td>22546753</td>\n",
              "      <td>4010919</td>\n",
              "      <td>2550.00</td>\n",
              "      <td>29-APR-23</td>\n",
              "      <td>Credit Against Merchant Cash Withdraw Service ...</td>\n",
              "      <td>Credit</td>\n",
              "    </tr>\n",
              "    <tr>\n",
              "      <th>22546754</th>\n",
              "      <td>22546754</td>\n",
              "      <td>2607145</td>\n",
              "      <td>2550.00</td>\n",
              "      <td>29-APR-23</td>\n",
              "      <td>Cash withdraw from Micro Merchant point, MM A/C</td>\n",
              "      <td>Debit</td>\n",
              "    </tr>\n",
              "    <tr>\n",
              "      <th>22546755</th>\n",
              "      <td>22546755</td>\n",
              "      <td>5728508</td>\n",
              "      <td>2550.00</td>\n",
              "      <td>29-APR-23</td>\n",
              "      <td>Credit Against Merchant Cash Withdraw Service ...</td>\n",
              "      <td>Credit</td>\n",
              "    </tr>\n",
              "    <tr>\n",
              "      <th>22546756</th>\n",
              "      <td>22546756</td>\n",
              "      <td>5939099</td>\n",
              "      <td>1512.75</td>\n",
              "      <td>29-APR-23</td>\n",
              "      <td>Cash withdraw from Micro Merchant point, MM A/C</td>\n",
              "      <td>Debit</td>\n",
              "    </tr>\n",
              "    <tr>\n",
              "      <th>22546757</th>\n",
              "      <td>22546757</td>\n",
              "      <td>4632178</td>\n",
              "      <td>1500.00</td>\n",
              "      <td>29-APR-23</td>\n",
              "      <td>Credit Against Merchant Cash Withdraw Service ...</td>\n",
              "      <td>Credit</td>\n",
              "    </tr>\n",
              "  </tbody>\n",
              "</table>\n",
              "<p>22546758 rows × 6 columns</p>\n",
              "</div>\n",
              "      <button class=\"colab-df-convert\" onclick=\"convertToInteractive('df-2652a0e3-b9ef-4583-b093-72a6d81378d4')\"\n",
              "              title=\"Convert this dataframe to an interactive table.\"\n",
              "              style=\"display:none;\">\n",
              "        \n",
              "  <svg xmlns=\"http://www.w3.org/2000/svg\" height=\"24px\"viewBox=\"0 0 24 24\"\n",
              "       width=\"24px\">\n",
              "    <path d=\"M0 0h24v24H0V0z\" fill=\"none\"/>\n",
              "    <path d=\"M18.56 5.44l.94 2.06.94-2.06 2.06-.94-2.06-.94-.94-2.06-.94 2.06-2.06.94zm-11 1L8.5 8.5l.94-2.06 2.06-.94-2.06-.94L8.5 2.5l-.94 2.06-2.06.94zm10 10l.94 2.06.94-2.06 2.06-.94-2.06-.94-.94-2.06-.94 2.06-2.06.94z\"/><path d=\"M17.41 7.96l-1.37-1.37c-.4-.4-.92-.59-1.43-.59-.52 0-1.04.2-1.43.59L10.3 9.45l-7.72 7.72c-.78.78-.78 2.05 0 2.83L4 21.41c.39.39.9.59 1.41.59.51 0 1.02-.2 1.41-.59l7.78-7.78 2.81-2.81c.8-.78.8-2.07 0-2.86zM5.41 20L4 18.59l7.72-7.72 1.47 1.35L5.41 20z\"/>\n",
              "  </svg>\n",
              "      </button>\n",
              "      \n",
              "  <style>\n",
              "    .colab-df-container {\n",
              "      display:flex;\n",
              "      flex-wrap:wrap;\n",
              "      gap: 12px;\n",
              "    }\n",
              "\n",
              "    .colab-df-convert {\n",
              "      background-color: #E8F0FE;\n",
              "      border: none;\n",
              "      border-radius: 50%;\n",
              "      cursor: pointer;\n",
              "      display: none;\n",
              "      fill: #1967D2;\n",
              "      height: 32px;\n",
              "      padding: 0 0 0 0;\n",
              "      width: 32px;\n",
              "    }\n",
              "\n",
              "    .colab-df-convert:hover {\n",
              "      background-color: #E2EBFA;\n",
              "      box-shadow: 0px 1px 2px rgba(60, 64, 67, 0.3), 0px 1px 3px 1px rgba(60, 64, 67, 0.15);\n",
              "      fill: #174EA6;\n",
              "    }\n",
              "\n",
              "    [theme=dark] .colab-df-convert {\n",
              "      background-color: #3B4455;\n",
              "      fill: #D2E3FC;\n",
              "    }\n",
              "\n",
              "    [theme=dark] .colab-df-convert:hover {\n",
              "      background-color: #434B5C;\n",
              "      box-shadow: 0px 1px 3px 1px rgba(0, 0, 0, 0.15);\n",
              "      filter: drop-shadow(0px 1px 2px rgba(0, 0, 0, 0.3));\n",
              "      fill: #FFFFFF;\n",
              "    }\n",
              "  </style>\n",
              "\n",
              "      <script>\n",
              "        const buttonEl =\n",
              "          document.querySelector('#df-2652a0e3-b9ef-4583-b093-72a6d81378d4 button.colab-df-convert');\n",
              "        buttonEl.style.display =\n",
              "          google.colab.kernel.accessAllowed ? 'block' : 'none';\n",
              "\n",
              "        async function convertToInteractive(key) {\n",
              "          const element = document.querySelector('#df-2652a0e3-b9ef-4583-b093-72a6d81378d4');\n",
              "          const dataTable =\n",
              "            await google.colab.kernel.invokeFunction('convertToInteractive',\n",
              "                                                     [key], {});\n",
              "          if (!dataTable) return;\n",
              "\n",
              "          const docLinkHtml = 'Like what you see? Visit the ' +\n",
              "            '<a target=\"_blank\" href=https://colab.research.google.com/notebooks/data_table.ipynb>data table notebook</a>'\n",
              "            + ' to learn more about interactive tables.';\n",
              "          element.innerHTML = '';\n",
              "          dataTable['output_type'] = 'display_data';\n",
              "          await google.colab.output.renderOutput(dataTable, element);\n",
              "          const docLink = document.createElement('div');\n",
              "          docLink.innerHTML = docLinkHtml;\n",
              "          element.appendChild(docLink);\n",
              "        }\n",
              "      </script>\n",
              "    </div>\n",
              "  </div>\n",
              "  "
            ],
            "text/plain": [
              "          Unnamed: 0    AC_ID     AMOUNT   DOC_DATE  \\\n",
              "0                  0  3644877  342800.00  01-NOV-22   \n",
              "1                  1  1175256  342800.00  01-NOV-22   \n",
              "2                  2  2298226    1500.00  01-NOV-22   \n",
              "3                  3  4066427    1500.00  01-NOV-22   \n",
              "4                  4  1978564    2550.00  01-NOV-22   \n",
              "...              ...      ...        ...        ...   \n",
              "22546753    22546753  4010919    2550.00  29-APR-23   \n",
              "22546754    22546754  2607145    2550.00  29-APR-23   \n",
              "22546755    22546755  5728508    2550.00  29-APR-23   \n",
              "22546756    22546756  5939099    1512.75  29-APR-23   \n",
              "22546757    22546757  4632178    1500.00  29-APR-23   \n",
              "\n",
              "                                                   NARATION   DR_CR  \n",
              "0                                             Cash Withdraw   Debit  \n",
              "1                            Cash Withdrawal From A/C No.:   Credit  \n",
              "2          Cash withdraw from Micro Merchant point, MM A/C    Debit  \n",
              "3         Credit Against Merchant Cash Withdraw Service ...  Credit  \n",
              "4          Cash withdraw from Micro Merchant point, MM A/C    Debit  \n",
              "...                                                     ...     ...  \n",
              "22546753  Credit Against Merchant Cash Withdraw Service ...  Credit  \n",
              "22546754   Cash withdraw from Micro Merchant point, MM A/C    Debit  \n",
              "22546755  Credit Against Merchant Cash Withdraw Service ...  Credit  \n",
              "22546756   Cash withdraw from Micro Merchant point, MM A/C    Debit  \n",
              "22546757  Credit Against Merchant Cash Withdraw Service ...  Credit  \n",
              "\n",
              "[22546758 rows x 6 columns]"
            ]
          },
          "execution_count": 9,
          "metadata": {},
          "output_type": "execute_result"
        }
      ],
      "source": [
        "data"
      ]
    },
    {
      "cell_type": "code",
      "execution_count": 10,
      "metadata": {
        "colab": {
          "base_uri": "https://localhost:8080/"
        },
        "id": "KaIgIY-6oZL8",
        "outputId": "1ef0f6d1-4073-481d-afc3-5a7cc9e29b9e"
      },
      "outputs": [
        {
          "data": {
            "text/plain": [
              "Index(['Unnamed: 0', 'AC_ID', 'AMOUNT', 'DOC_DATE', 'NARATION', 'DR_CR'], dtype='object')"
            ]
          },
          "execution_count": 10,
          "metadata": {},
          "output_type": "execute_result"
        }
      ],
      "source": [
        "data.columns"
      ]
    },
    {
      "cell_type": "code",
      "execution_count": 11,
      "metadata": {
        "id": "9o8RN9HDoBfP"
      },
      "outputs": [],
      "source": [
        "narration = data['NARATION'].to_frame()"
      ]
    },
    {
      "cell_type": "code",
      "execution_count": 12,
      "metadata": {
        "colab": {
          "base_uri": "https://localhost:8080/",
          "height": 0
        },
        "id": "g23Y8PCVogQo",
        "outputId": "1c93607f-c5a3-4b03-d654-956b2e0c9b9e"
      },
      "outputs": [
        {
          "data": {
            "text/html": [
              "\n",
              "  <div id=\"df-7982cec7-97ea-4f24-a030-63e8b0fcab20\">\n",
              "    <div class=\"colab-df-container\">\n",
              "      <div>\n",
              "<style scoped>\n",
              "    .dataframe tbody tr th:only-of-type {\n",
              "        vertical-align: middle;\n",
              "    }\n",
              "\n",
              "    .dataframe tbody tr th {\n",
              "        vertical-align: top;\n",
              "    }\n",
              "\n",
              "    .dataframe thead th {\n",
              "        text-align: right;\n",
              "    }\n",
              "</style>\n",
              "<table border=\"1\" class=\"dataframe\">\n",
              "  <thead>\n",
              "    <tr style=\"text-align: right;\">\n",
              "      <th></th>\n",
              "      <th>NARATION</th>\n",
              "    </tr>\n",
              "  </thead>\n",
              "  <tbody>\n",
              "    <tr>\n",
              "      <th>0</th>\n",
              "      <td>Cash Withdraw</td>\n",
              "    </tr>\n",
              "    <tr>\n",
              "      <th>1</th>\n",
              "      <td>Cash Withdrawal From A/C No.:</td>\n",
              "    </tr>\n",
              "    <tr>\n",
              "      <th>2</th>\n",
              "      <td>Cash withdraw from Micro Merchant point, MM A/C</td>\n",
              "    </tr>\n",
              "    <tr>\n",
              "      <th>3</th>\n",
              "      <td>Credit Against Merchant Cash Withdraw Service ...</td>\n",
              "    </tr>\n",
              "    <tr>\n",
              "      <th>4</th>\n",
              "      <td>Cash withdraw from Micro Merchant point, MM A/C</td>\n",
              "    </tr>\n",
              "    <tr>\n",
              "      <th>...</th>\n",
              "      <td>...</td>\n",
              "    </tr>\n",
              "    <tr>\n",
              "      <th>22546753</th>\n",
              "      <td>Credit Against Merchant Cash Withdraw Service ...</td>\n",
              "    </tr>\n",
              "    <tr>\n",
              "      <th>22546754</th>\n",
              "      <td>Cash withdraw from Micro Merchant point, MM A/C</td>\n",
              "    </tr>\n",
              "    <tr>\n",
              "      <th>22546755</th>\n",
              "      <td>Credit Against Merchant Cash Withdraw Service ...</td>\n",
              "    </tr>\n",
              "    <tr>\n",
              "      <th>22546756</th>\n",
              "      <td>Cash withdraw from Micro Merchant point, MM A/C</td>\n",
              "    </tr>\n",
              "    <tr>\n",
              "      <th>22546757</th>\n",
              "      <td>Credit Against Merchant Cash Withdraw Service ...</td>\n",
              "    </tr>\n",
              "  </tbody>\n",
              "</table>\n",
              "<p>22546758 rows × 1 columns</p>\n",
              "</div>\n",
              "      <button class=\"colab-df-convert\" onclick=\"convertToInteractive('df-7982cec7-97ea-4f24-a030-63e8b0fcab20')\"\n",
              "              title=\"Convert this dataframe to an interactive table.\"\n",
              "              style=\"display:none;\">\n",
              "        \n",
              "  <svg xmlns=\"http://www.w3.org/2000/svg\" height=\"24px\"viewBox=\"0 0 24 24\"\n",
              "       width=\"24px\">\n",
              "    <path d=\"M0 0h24v24H0V0z\" fill=\"none\"/>\n",
              "    <path d=\"M18.56 5.44l.94 2.06.94-2.06 2.06-.94-2.06-.94-.94-2.06-.94 2.06-2.06.94zm-11 1L8.5 8.5l.94-2.06 2.06-.94-2.06-.94L8.5 2.5l-.94 2.06-2.06.94zm10 10l.94 2.06.94-2.06 2.06-.94-2.06-.94-.94-2.06-.94 2.06-2.06.94z\"/><path d=\"M17.41 7.96l-1.37-1.37c-.4-.4-.92-.59-1.43-.59-.52 0-1.04.2-1.43.59L10.3 9.45l-7.72 7.72c-.78.78-.78 2.05 0 2.83L4 21.41c.39.39.9.59 1.41.59.51 0 1.02-.2 1.41-.59l7.78-7.78 2.81-2.81c.8-.78.8-2.07 0-2.86zM5.41 20L4 18.59l7.72-7.72 1.47 1.35L5.41 20z\"/>\n",
              "  </svg>\n",
              "      </button>\n",
              "      \n",
              "  <style>\n",
              "    .colab-df-container {\n",
              "      display:flex;\n",
              "      flex-wrap:wrap;\n",
              "      gap: 12px;\n",
              "    }\n",
              "\n",
              "    .colab-df-convert {\n",
              "      background-color: #E8F0FE;\n",
              "      border: none;\n",
              "      border-radius: 50%;\n",
              "      cursor: pointer;\n",
              "      display: none;\n",
              "      fill: #1967D2;\n",
              "      height: 32px;\n",
              "      padding: 0 0 0 0;\n",
              "      width: 32px;\n",
              "    }\n",
              "\n",
              "    .colab-df-convert:hover {\n",
              "      background-color: #E2EBFA;\n",
              "      box-shadow: 0px 1px 2px rgba(60, 64, 67, 0.3), 0px 1px 3px 1px rgba(60, 64, 67, 0.15);\n",
              "      fill: #174EA6;\n",
              "    }\n",
              "\n",
              "    [theme=dark] .colab-df-convert {\n",
              "      background-color: #3B4455;\n",
              "      fill: #D2E3FC;\n",
              "    }\n",
              "\n",
              "    [theme=dark] .colab-df-convert:hover {\n",
              "      background-color: #434B5C;\n",
              "      box-shadow: 0px 1px 3px 1px rgba(0, 0, 0, 0.15);\n",
              "      filter: drop-shadow(0px 1px 2px rgba(0, 0, 0, 0.3));\n",
              "      fill: #FFFFFF;\n",
              "    }\n",
              "  </style>\n",
              "\n",
              "      <script>\n",
              "        const buttonEl =\n",
              "          document.querySelector('#df-7982cec7-97ea-4f24-a030-63e8b0fcab20 button.colab-df-convert');\n",
              "        buttonEl.style.display =\n",
              "          google.colab.kernel.accessAllowed ? 'block' : 'none';\n",
              "\n",
              "        async function convertToInteractive(key) {\n",
              "          const element = document.querySelector('#df-7982cec7-97ea-4f24-a030-63e8b0fcab20');\n",
              "          const dataTable =\n",
              "            await google.colab.kernel.invokeFunction('convertToInteractive',\n",
              "                                                     [key], {});\n",
              "          if (!dataTable) return;\n",
              "\n",
              "          const docLinkHtml = 'Like what you see? Visit the ' +\n",
              "            '<a target=\"_blank\" href=https://colab.research.google.com/notebooks/data_table.ipynb>data table notebook</a>'\n",
              "            + ' to learn more about interactive tables.';\n",
              "          element.innerHTML = '';\n",
              "          dataTable['output_type'] = 'display_data';\n",
              "          await google.colab.output.renderOutput(dataTable, element);\n",
              "          const docLink = document.createElement('div');\n",
              "          docLink.innerHTML = docLinkHtml;\n",
              "          element.appendChild(docLink);\n",
              "        }\n",
              "      </script>\n",
              "    </div>\n",
              "  </div>\n",
              "  "
            ],
            "text/plain": [
              "                                                   NARATION\n",
              "0                                             Cash Withdraw\n",
              "1                            Cash Withdrawal From A/C No.: \n",
              "2          Cash withdraw from Micro Merchant point, MM A/C \n",
              "3         Credit Against Merchant Cash Withdraw Service ...\n",
              "4          Cash withdraw from Micro Merchant point, MM A/C \n",
              "...                                                     ...\n",
              "22546753  Credit Against Merchant Cash Withdraw Service ...\n",
              "22546754   Cash withdraw from Micro Merchant point, MM A/C \n",
              "22546755  Credit Against Merchant Cash Withdraw Service ...\n",
              "22546756   Cash withdraw from Micro Merchant point, MM A/C \n",
              "22546757  Credit Against Merchant Cash Withdraw Service ...\n",
              "\n",
              "[22546758 rows x 1 columns]"
            ]
          },
          "execution_count": 12,
          "metadata": {},
          "output_type": "execute_result"
        }
      ],
      "source": [
        "narration"
      ]
    },
    {
      "cell_type": "code",
      "execution_count": 13,
      "metadata": {
        "colab": {
          "base_uri": "https://localhost:8080/",
          "height": 0
        },
        "id": "9j5qJWuQo_s5",
        "outputId": "3185ca81-e374-430c-e2bc-cc94858d8ace"
      },
      "outputs": [
        {
          "data": {
            "text/html": [
              "\n",
              "  <div id=\"df-9d723725-529f-46ea-a5d0-6319118c89d0\">\n",
              "    <div class=\"colab-df-container\">\n",
              "      <div>\n",
              "<style scoped>\n",
              "    .dataframe tbody tr th:only-of-type {\n",
              "        vertical-align: middle;\n",
              "    }\n",
              "\n",
              "    .dataframe tbody tr th {\n",
              "        vertical-align: top;\n",
              "    }\n",
              "\n",
              "    .dataframe thead th {\n",
              "        text-align: right;\n",
              "    }\n",
              "</style>\n",
              "<table border=\"1\" class=\"dataframe\">\n",
              "  <thead>\n",
              "    <tr style=\"text-align: right;\">\n",
              "      <th></th>\n",
              "      <th>NARATION</th>\n",
              "    </tr>\n",
              "  </thead>\n",
              "  <tbody>\n",
              "    <tr>\n",
              "      <th>7516450</th>\n",
              "      <td>Debit Against Palli Bidyut Bill Collection.</td>\n",
              "    </tr>\n",
              "    <tr>\n",
              "      <th>10668939</th>\n",
              "      <td>OBC # /</td>\n",
              "    </tr>\n",
              "    <tr>\n",
              "      <th>9128539</th>\n",
              "      <td>Debit Against Palli Bidyut Bill Collection.</td>\n",
              "    </tr>\n",
              "    <tr>\n",
              "      <th>4127412</th>\n",
              "      <td>Debit Against Palli Bidyut Bill Collection.</td>\n",
              "    </tr>\n",
              "    <tr>\n",
              "      <th>10568995</th>\n",
              "      <td>SMS Charge Deduction For The Year</td>\n",
              "    </tr>\n",
              "    <tr>\n",
              "      <th>97323</th>\n",
              "      <td>Credit Against Merchant Cash Withdraw Service ...</td>\n",
              "    </tr>\n",
              "    <tr>\n",
              "      <th>8666604</th>\n",
              "      <td>Cash Withdraw</td>\n",
              "    </tr>\n",
              "    <tr>\n",
              "      <th>21408585</th>\n",
              "      <td>Cash withdraw from Micro Merchant point, MM A/C</td>\n",
              "    </tr>\n",
              "    <tr>\n",
              "      <th>20726706</th>\n",
              "      <td>Credit Against Merchant Cash Withdraw Service ...</td>\n",
              "    </tr>\n",
              "    <tr>\n",
              "      <th>16291735</th>\n",
              "      <td>Debit Against Debit Card Charge Transaction</td>\n",
              "    </tr>\n",
              "    <tr>\n",
              "      <th>7222373</th>\n",
              "      <td>SMS Charge Deduction For The Year</td>\n",
              "    </tr>\n",
              "    <tr>\n",
              "      <th>10438315</th>\n",
              "      <td>SMS Charge Deduction For The Year</td>\n",
              "    </tr>\n",
              "    <tr>\n",
              "      <th>8662745</th>\n",
              "      <td>Withdraw Against DPS Installment Collection</td>\n",
              "    </tr>\n",
              "    <tr>\n",
              "      <th>10842361</th>\n",
              "      <td>Cash withdraw from Micro Merchant point, MM A/C</td>\n",
              "    </tr>\n",
              "    <tr>\n",
              "      <th>20994541</th>\n",
              "      <td>EID-UL-FITR festival bonus- from A/C  Title: B...</td>\n",
              "    </tr>\n",
              "    <tr>\n",
              "      <th>2822985</th>\n",
              "      <td>Cash Deposit to A/C No.:</td>\n",
              "    </tr>\n",
              "    <tr>\n",
              "      <th>15809651</th>\n",
              "      <td>Cash Withdrawal From A/C No.:</td>\n",
              "    </tr>\n",
              "    <tr>\n",
              "      <th>10964011</th>\n",
              "      <td>Withdraw Against DPS Installment Collection</td>\n",
              "    </tr>\n",
              "    <tr>\n",
              "      <th>19930074</th>\n",
              "      <td>Commission for the Month of September- from A/...</td>\n",
              "    </tr>\n",
              "    <tr>\n",
              "      <th>4407155</th>\n",
              "      <td>Debit Against Palli Bidyut Bill Collection.</td>\n",
              "    </tr>\n",
              "  </tbody>\n",
              "</table>\n",
              "</div>\n",
              "      <button class=\"colab-df-convert\" onclick=\"convertToInteractive('df-9d723725-529f-46ea-a5d0-6319118c89d0')\"\n",
              "              title=\"Convert this dataframe to an interactive table.\"\n",
              "              style=\"display:none;\">\n",
              "        \n",
              "  <svg xmlns=\"http://www.w3.org/2000/svg\" height=\"24px\"viewBox=\"0 0 24 24\"\n",
              "       width=\"24px\">\n",
              "    <path d=\"M0 0h24v24H0V0z\" fill=\"none\"/>\n",
              "    <path d=\"M18.56 5.44l.94 2.06.94-2.06 2.06-.94-2.06-.94-.94-2.06-.94 2.06-2.06.94zm-11 1L8.5 8.5l.94-2.06 2.06-.94-2.06-.94L8.5 2.5l-.94 2.06-2.06.94zm10 10l.94 2.06.94-2.06 2.06-.94-2.06-.94-.94-2.06-.94 2.06-2.06.94z\"/><path d=\"M17.41 7.96l-1.37-1.37c-.4-.4-.92-.59-1.43-.59-.52 0-1.04.2-1.43.59L10.3 9.45l-7.72 7.72c-.78.78-.78 2.05 0 2.83L4 21.41c.39.39.9.59 1.41.59.51 0 1.02-.2 1.41-.59l7.78-7.78 2.81-2.81c.8-.78.8-2.07 0-2.86zM5.41 20L4 18.59l7.72-7.72 1.47 1.35L5.41 20z\"/>\n",
              "  </svg>\n",
              "      </button>\n",
              "      \n",
              "  <style>\n",
              "    .colab-df-container {\n",
              "      display:flex;\n",
              "      flex-wrap:wrap;\n",
              "      gap: 12px;\n",
              "    }\n",
              "\n",
              "    .colab-df-convert {\n",
              "      background-color: #E8F0FE;\n",
              "      border: none;\n",
              "      border-radius: 50%;\n",
              "      cursor: pointer;\n",
              "      display: none;\n",
              "      fill: #1967D2;\n",
              "      height: 32px;\n",
              "      padding: 0 0 0 0;\n",
              "      width: 32px;\n",
              "    }\n",
              "\n",
              "    .colab-df-convert:hover {\n",
              "      background-color: #E2EBFA;\n",
              "      box-shadow: 0px 1px 2px rgba(60, 64, 67, 0.3), 0px 1px 3px 1px rgba(60, 64, 67, 0.15);\n",
              "      fill: #174EA6;\n",
              "    }\n",
              "\n",
              "    [theme=dark] .colab-df-convert {\n",
              "      background-color: #3B4455;\n",
              "      fill: #D2E3FC;\n",
              "    }\n",
              "\n",
              "    [theme=dark] .colab-df-convert:hover {\n",
              "      background-color: #434B5C;\n",
              "      box-shadow: 0px 1px 3px 1px rgba(0, 0, 0, 0.15);\n",
              "      filter: drop-shadow(0px 1px 2px rgba(0, 0, 0, 0.3));\n",
              "      fill: #FFFFFF;\n",
              "    }\n",
              "  </style>\n",
              "\n",
              "      <script>\n",
              "        const buttonEl =\n",
              "          document.querySelector('#df-9d723725-529f-46ea-a5d0-6319118c89d0 button.colab-df-convert');\n",
              "        buttonEl.style.display =\n",
              "          google.colab.kernel.accessAllowed ? 'block' : 'none';\n",
              "\n",
              "        async function convertToInteractive(key) {\n",
              "          const element = document.querySelector('#df-9d723725-529f-46ea-a5d0-6319118c89d0');\n",
              "          const dataTable =\n",
              "            await google.colab.kernel.invokeFunction('convertToInteractive',\n",
              "                                                     [key], {});\n",
              "          if (!dataTable) return;\n",
              "\n",
              "          const docLinkHtml = 'Like what you see? Visit the ' +\n",
              "            '<a target=\"_blank\" href=https://colab.research.google.com/notebooks/data_table.ipynb>data table notebook</a>'\n",
              "            + ' to learn more about interactive tables.';\n",
              "          element.innerHTML = '';\n",
              "          dataTable['output_type'] = 'display_data';\n",
              "          await google.colab.output.renderOutput(dataTable, element);\n",
              "          const docLink = document.createElement('div');\n",
              "          docLink.innerHTML = docLinkHtml;\n",
              "          element.appendChild(docLink);\n",
              "        }\n",
              "      </script>\n",
              "    </div>\n",
              "  </div>\n",
              "  "
            ],
            "text/plain": [
              "                                                   NARATION\n",
              "22443287          CAP (Smart App), Regular Fund Transfer. r\n",
              "2438996         Debit Against Debit Card Charge Transaction\n",
              "16331519                     Cash Withdrawal From A/C No.: \n",
              "16840907   Cash withdraw from Micro Merchant point, MM A/C \n",
              "6016125                           Cash Deposit to A/C No.: \n",
              "1121685    Cash withdraw from Micro Merchant point, MM A/C \n",
              "18637972        Withdraw Against DPS Installment Collection\n",
              "21057597                                      Cash Withdraw\n",
              "10749323                                      Cash Withdraw\n",
              "15402647               Debit Against Debit Card Transaction\n",
              "20732456  Factory Basic(%) Salary Sheet  April  from Jih...\n",
              "10931614        Withdraw Against DPS Installment Collection\n",
              "8371626                                        Cash Deposit\n",
              "8658696         Withdraw Against DPS Installment Collection\n",
              "9114072                                       Cash Withdraw\n",
              "8784810                           Cash Deposit to A/C No.: \n",
              "3730867                                       Cash Withdraw\n",
              "21904832                                      Cash Withdraw\n",
              "20348014  RLP RD PHASE Loan disbursement from A/C  Title...\n",
              "11130534       Debit Against Palli Bidyut Bill Collection. "
            ]
          },
          "execution_count": 13,
          "metadata": {},
          "output_type": "execute_result"
        }
      ],
      "source": [
        "SAMP_CNT = 20\n",
        "narration.sample(n=SAMP_CNT)"
      ]
    },
    {
      "cell_type": "code",
      "execution_count": 14,
      "metadata": {
        "colab": {
          "base_uri": "https://localhost:8080/",
          "height": 0
        },
        "id": "y5vC5gDTx68_",
        "outputId": "2cdf8d3f-1d2d-4a11-f0fd-cab65edc2a47"
      },
      "outputs": [
        {
          "data": {
            "text/html": [
              "\n",
              "  <div id=\"df-db839c43-bc0d-4db1-8a9f-9fa32512d067\">\n",
              "    <div class=\"colab-df-container\">\n",
              "      <div>\n",
              "<style scoped>\n",
              "    .dataframe tbody tr th:only-of-type {\n",
              "        vertical-align: middle;\n",
              "    }\n",
              "\n",
              "    .dataframe tbody tr th {\n",
              "        vertical-align: top;\n",
              "    }\n",
              "\n",
              "    .dataframe thead th {\n",
              "        text-align: right;\n",
              "    }\n",
              "</style>\n",
              "<table border=\"1\" class=\"dataframe\">\n",
              "  <thead>\n",
              "    <tr style=\"text-align: right;\">\n",
              "      <th></th>\n",
              "      <th>NARATION</th>\n",
              "    </tr>\n",
              "  </thead>\n",
              "  <tbody>\n",
              "    <tr>\n",
              "      <th>count</th>\n",
              "      <td>22545735</td>\n",
              "    </tr>\n",
              "    <tr>\n",
              "      <th>unique</th>\n",
              "      <td>128603</td>\n",
              "    </tr>\n",
              "    <tr>\n",
              "      <th>top</th>\n",
              "      <td>Cash Withdrawal From A/C No.:</td>\n",
              "    </tr>\n",
              "    <tr>\n",
              "      <th>freq</th>\n",
              "      <td>2359719</td>\n",
              "    </tr>\n",
              "  </tbody>\n",
              "</table>\n",
              "</div>\n",
              "      <button class=\"colab-df-convert\" onclick=\"convertToInteractive('df-db839c43-bc0d-4db1-8a9f-9fa32512d067')\"\n",
              "              title=\"Convert this dataframe to an interactive table.\"\n",
              "              style=\"display:none;\">\n",
              "        \n",
              "  <svg xmlns=\"http://www.w3.org/2000/svg\" height=\"24px\"viewBox=\"0 0 24 24\"\n",
              "       width=\"24px\">\n",
              "    <path d=\"M0 0h24v24H0V0z\" fill=\"none\"/>\n",
              "    <path d=\"M18.56 5.44l.94 2.06.94-2.06 2.06-.94-2.06-.94-.94-2.06-.94 2.06-2.06.94zm-11 1L8.5 8.5l.94-2.06 2.06-.94-2.06-.94L8.5 2.5l-.94 2.06-2.06.94zm10 10l.94 2.06.94-2.06 2.06-.94-2.06-.94-.94-2.06-.94 2.06-2.06.94z\"/><path d=\"M17.41 7.96l-1.37-1.37c-.4-.4-.92-.59-1.43-.59-.52 0-1.04.2-1.43.59L10.3 9.45l-7.72 7.72c-.78.78-.78 2.05 0 2.83L4 21.41c.39.39.9.59 1.41.59.51 0 1.02-.2 1.41-.59l7.78-7.78 2.81-2.81c.8-.78.8-2.07 0-2.86zM5.41 20L4 18.59l7.72-7.72 1.47 1.35L5.41 20z\"/>\n",
              "  </svg>\n",
              "      </button>\n",
              "      \n",
              "  <style>\n",
              "    .colab-df-container {\n",
              "      display:flex;\n",
              "      flex-wrap:wrap;\n",
              "      gap: 12px;\n",
              "    }\n",
              "\n",
              "    .colab-df-convert {\n",
              "      background-color: #E8F0FE;\n",
              "      border: none;\n",
              "      border-radius: 50%;\n",
              "      cursor: pointer;\n",
              "      display: none;\n",
              "      fill: #1967D2;\n",
              "      height: 32px;\n",
              "      padding: 0 0 0 0;\n",
              "      width: 32px;\n",
              "    }\n",
              "\n",
              "    .colab-df-convert:hover {\n",
              "      background-color: #E2EBFA;\n",
              "      box-shadow: 0px 1px 2px rgba(60, 64, 67, 0.3), 0px 1px 3px 1px rgba(60, 64, 67, 0.15);\n",
              "      fill: #174EA6;\n",
              "    }\n",
              "\n",
              "    [theme=dark] .colab-df-convert {\n",
              "      background-color: #3B4455;\n",
              "      fill: #D2E3FC;\n",
              "    }\n",
              "\n",
              "    [theme=dark] .colab-df-convert:hover {\n",
              "      background-color: #434B5C;\n",
              "      box-shadow: 0px 1px 3px 1px rgba(0, 0, 0, 0.15);\n",
              "      filter: drop-shadow(0px 1px 2px rgba(0, 0, 0, 0.3));\n",
              "      fill: #FFFFFF;\n",
              "    }\n",
              "  </style>\n",
              "\n",
              "      <script>\n",
              "        const buttonEl =\n",
              "          document.querySelector('#df-db839c43-bc0d-4db1-8a9f-9fa32512d067 button.colab-df-convert');\n",
              "        buttonEl.style.display =\n",
              "          google.colab.kernel.accessAllowed ? 'block' : 'none';\n",
              "\n",
              "        async function convertToInteractive(key) {\n",
              "          const element = document.querySelector('#df-db839c43-bc0d-4db1-8a9f-9fa32512d067');\n",
              "          const dataTable =\n",
              "            await google.colab.kernel.invokeFunction('convertToInteractive',\n",
              "                                                     [key], {});\n",
              "          if (!dataTable) return;\n",
              "\n",
              "          const docLinkHtml = 'Like what you see? Visit the ' +\n",
              "            '<a target=\"_blank\" href=https://colab.research.google.com/notebooks/data_table.ipynb>data table notebook</a>'\n",
              "            + ' to learn more about interactive tables.';\n",
              "          element.innerHTML = '';\n",
              "          dataTable['output_type'] = 'display_data';\n",
              "          await google.colab.output.renderOutput(dataTable, element);\n",
              "          const docLink = document.createElement('div');\n",
              "          docLink.innerHTML = docLinkHtml;\n",
              "          element.appendChild(docLink);\n",
              "        }\n",
              "      </script>\n",
              "    </div>\n",
              "  </div>\n",
              "  "
            ],
            "text/plain": [
              "                              NARATION\n",
              "count                         22545735\n",
              "unique                          128603\n",
              "top     Cash Withdrawal From A/C No.: \n",
              "freq                           2359719"
            ]
          },
          "execution_count": 14,
          "metadata": {},
          "output_type": "execute_result"
        }
      ],
      "source": [
        "narration.describe()"
      ]
    },
    {
      "cell_type": "code",
      "execution_count": 15,
      "metadata": {
        "id": "UtFi2cUuyIoM"
      },
      "outputs": [],
      "source": [
        "unique_narrations = narration.drop_duplicates()"
      ]
    },
    {
      "cell_type": "code",
      "execution_count": 16,
      "metadata": {
        "id": "V9GKqpVG8D9k"
      },
      "outputs": [],
      "source": [
        "del data, narration"
      ]
    },
    {
      "cell_type": "code",
      "execution_count": 17,
      "metadata": {
        "colab": {
          "base_uri": "https://localhost:8080/",
          "height": 0
        },
        "id": "1uU8twNjyYDH",
        "outputId": "cc44bfb1-f73b-4c2d-e3c0-cf633ef1d0a4"
      },
      "outputs": [
        {
          "data": {
            "text/html": [
              "\n",
              "  <div id=\"df-ac9afda4-c6ce-449c-9e72-ff2fef854872\">\n",
              "    <div class=\"colab-df-container\">\n",
              "      <div>\n",
              "<style scoped>\n",
              "    .dataframe tbody tr th:only-of-type {\n",
              "        vertical-align: middle;\n",
              "    }\n",
              "\n",
              "    .dataframe tbody tr th {\n",
              "        vertical-align: top;\n",
              "    }\n",
              "\n",
              "    .dataframe thead th {\n",
              "        text-align: right;\n",
              "    }\n",
              "</style>\n",
              "<table border=\"1\" class=\"dataframe\">\n",
              "  <thead>\n",
              "    <tr style=\"text-align: right;\">\n",
              "      <th></th>\n",
              "      <th>NARATION</th>\n",
              "    </tr>\n",
              "  </thead>\n",
              "  <tbody>\n",
              "    <tr>\n",
              "      <th>10030195</th>\n",
              "      <td>Cash Deposit for Salay Jan-</td>\n",
              "    </tr>\n",
              "    <tr>\n",
              "      <th>4433517</th>\n",
              "      <td>jafor ikbal, Cheque # AD-</td>\n",
              "    </tr>\n",
              "    <tr>\n",
              "      <th>18267202</th>\n",
              "      <td>Withdraw Against Cash Deposit BY SAIFUL ISLAM ...</td>\n",
              "    </tr>\n",
              "    <tr>\n",
              "      <th>13275777</th>\n",
              "      <td>Withdraw Against Inter Branch Cash Deposit- Md...</td>\n",
              "    </tr>\n",
              "    <tr>\n",
              "      <th>3541332</th>\n",
              "      <td>Adv. Shazia Afrin Lima  Vara Oct</td>\n",
              "    </tr>\n",
              "    <tr>\n",
              "      <th>10402620</th>\n",
              "      <td>No teota udc,-)</td>\n",
              "    </tr>\n",
              "    <tr>\n",
              "      <th>19040014</th>\n",
              "      <td>Fund Transfer from kouser From A/C No.:</td>\n",
              "    </tr>\n",
              "    <tr>\n",
              "      <th>6397285</th>\n",
              "      <td>Chokradakanai Purbo Para</td>\n",
              "    </tr>\n",
              "    <tr>\n",
              "      <th>9294242</th>\n",
              "      <td>Cash Deposit, for Office Internet Bill</td>\n",
              "    </tr>\n",
              "    <tr>\n",
              "      <th>17510085</th>\n",
              "      <td>. abdul jalil dholashor sme</td>\n",
              "    </tr>\n",
              "    <tr>\n",
              "      <th>3701512</th>\n",
              "      <td>Poschim Kalaliya kata Mohila Polli U..Dol-Sud</td>\n",
              "    </tr>\n",
              "    <tr>\n",
              "      <th>9855155</th>\n",
              "      <td>Dath Crt Fee, Nargish Akter</td>\n",
              "    </tr>\n",
              "    <tr>\n",
              "      <th>17587018</th>\n",
              "      <td>Oharison</td>\n",
              "    </tr>\n",
              "    <tr>\n",
              "      <th>4228151</th>\n",
              "      <td>CASH MANAGEMENT BARACHOWNA TOMA SEN</td>\n",
              "    </tr>\n",
              "    <tr>\n",
              "      <th>3806885</th>\n",
              "      <td>Cash Deposit TRADE LICENSE  Pis</td>\n",
              "    </tr>\n",
              "    <tr>\n",
              "      <th>15461628</th>\n",
              "      <td>NEW HOLDING FROM FEE. SAFALI BEGUM</td>\n",
              "    </tr>\n",
              "    <tr>\n",
              "      <th>1116672</th>\n",
              "      <td>Withdraw Against office Rent of October A/C No.:</td>\n",
              "    </tr>\n",
              "    <tr>\n",
              "      <th>5855152</th>\n",
              "      <td>kazirhula MPUD sav. loan  int.</td>\n",
              "    </tr>\n",
              "    <tr>\n",
              "      <th>9362908</th>\n",
              "      <td>CAP (Smart App), Regular Fund Transfer. Ramin</td>\n",
              "    </tr>\n",
              "    <tr>\n",
              "      <th>6288265</th>\n",
              "      <td>Md. Deloar Hossain,Angargara,Bhaluka,Mymensing...</td>\n",
              "    </tr>\n",
              "  </tbody>\n",
              "</table>\n",
              "</div>\n",
              "      <button class=\"colab-df-convert\" onclick=\"convertToInteractive('df-ac9afda4-c6ce-449c-9e72-ff2fef854872')\"\n",
              "              title=\"Convert this dataframe to an interactive table.\"\n",
              "              style=\"display:none;\">\n",
              "        \n",
              "  <svg xmlns=\"http://www.w3.org/2000/svg\" height=\"24px\"viewBox=\"0 0 24 24\"\n",
              "       width=\"24px\">\n",
              "    <path d=\"M0 0h24v24H0V0z\" fill=\"none\"/>\n",
              "    <path d=\"M18.56 5.44l.94 2.06.94-2.06 2.06-.94-2.06-.94-.94-2.06-.94 2.06-2.06.94zm-11 1L8.5 8.5l.94-2.06 2.06-.94-2.06-.94L8.5 2.5l-.94 2.06-2.06.94zm10 10l.94 2.06.94-2.06 2.06-.94-2.06-.94-.94-2.06-.94 2.06-2.06.94z\"/><path d=\"M17.41 7.96l-1.37-1.37c-.4-.4-.92-.59-1.43-.59-.52 0-1.04.2-1.43.59L10.3 9.45l-7.72 7.72c-.78.78-.78 2.05 0 2.83L4 21.41c.39.39.9.59 1.41.59.51 0 1.02-.2 1.41-.59l7.78-7.78 2.81-2.81c.8-.78.8-2.07 0-2.86zM5.41 20L4 18.59l7.72-7.72 1.47 1.35L5.41 20z\"/>\n",
              "  </svg>\n",
              "      </button>\n",
              "      \n",
              "  <style>\n",
              "    .colab-df-container {\n",
              "      display:flex;\n",
              "      flex-wrap:wrap;\n",
              "      gap: 12px;\n",
              "    }\n",
              "\n",
              "    .colab-df-convert {\n",
              "      background-color: #E8F0FE;\n",
              "      border: none;\n",
              "      border-radius: 50%;\n",
              "      cursor: pointer;\n",
              "      display: none;\n",
              "      fill: #1967D2;\n",
              "      height: 32px;\n",
              "      padding: 0 0 0 0;\n",
              "      width: 32px;\n",
              "    }\n",
              "\n",
              "    .colab-df-convert:hover {\n",
              "      background-color: #E2EBFA;\n",
              "      box-shadow: 0px 1px 2px rgba(60, 64, 67, 0.3), 0px 1px 3px 1px rgba(60, 64, 67, 0.15);\n",
              "      fill: #174EA6;\n",
              "    }\n",
              "\n",
              "    [theme=dark] .colab-df-convert {\n",
              "      background-color: #3B4455;\n",
              "      fill: #D2E3FC;\n",
              "    }\n",
              "\n",
              "    [theme=dark] .colab-df-convert:hover {\n",
              "      background-color: #434B5C;\n",
              "      box-shadow: 0px 1px 3px 1px rgba(0, 0, 0, 0.15);\n",
              "      filter: drop-shadow(0px 1px 2px rgba(0, 0, 0, 0.3));\n",
              "      fill: #FFFFFF;\n",
              "    }\n",
              "  </style>\n",
              "\n",
              "      <script>\n",
              "        const buttonEl =\n",
              "          document.querySelector('#df-ac9afda4-c6ce-449c-9e72-ff2fef854872 button.colab-df-convert');\n",
              "        buttonEl.style.display =\n",
              "          google.colab.kernel.accessAllowed ? 'block' : 'none';\n",
              "\n",
              "        async function convertToInteractive(key) {\n",
              "          const element = document.querySelector('#df-ac9afda4-c6ce-449c-9e72-ff2fef854872');\n",
              "          const dataTable =\n",
              "            await google.colab.kernel.invokeFunction('convertToInteractive',\n",
              "                                                     [key], {});\n",
              "          if (!dataTable) return;\n",
              "\n",
              "          const docLinkHtml = 'Like what you see? Visit the ' +\n",
              "            '<a target=\"_blank\" href=https://colab.research.google.com/notebooks/data_table.ipynb>data table notebook</a>'\n",
              "            + ' to learn more about interactive tables.';\n",
              "          element.innerHTML = '';\n",
              "          dataTable['output_type'] = 'display_data';\n",
              "          await google.colab.output.renderOutput(dataTable, element);\n",
              "          const docLink = document.createElement('div');\n",
              "          docLink.innerHTML = docLinkHtml;\n",
              "          element.appendChild(docLink);\n",
              "        }\n",
              "      </script>\n",
              "    </div>\n",
              "  </div>\n",
              "  "
            ],
            "text/plain": [
              "                                                   NARATION\n",
              "1238500    CAP (Smart App), Regular Fund Transfer. RANJU LD\n",
              "1259033   AGENT BANKING CASH WITHDRAWAL, SONAIMURI BRANC...\n",
              "18216922  CAP (Smart App), Regular Fund Transfer. Mostak...\n",
              "2530178                          Obayed Ullah, Cheque # AD-\n",
              "796113                               Cash Deposit by Joshim\n",
              "19211565  Salary Disbursement for the month of March- fr...\n",
              "5258048     CAP (Smart App), Regular Fund Transfer. dadaPay\n",
              "2558472   Uddokta Rita Rani Das, Dhuboria, Savings-, Loa...\n",
              "18733543  Withdraw Against Inter Branch Cash Deposit by ...\n",
              "18504827                         AGENT SUPPORT Cash Deposit\n",
              "17238205                     Inter Agent Cash Deposit Habib\n",
              "5502241                                  Family Loan Amount\n",
              "8494630                                       Rant Purpose \n",
              "20344833  RLP RD PHASE LOAN disbursement from A/C  title...\n",
              "5246425                          Showrob & Eyasin- December\n",
              "3331964                           Cash Deposit ,,,Hand Cash\n",
              "1254623   CAP (Smart App), NPSB Fund Transfer. Trf to ,B...\n",
              "8639385                          Chordhorompur moddo Mohila\n",
              "8209150   Withdraw Against Prdip kumar das Cacuya  A/C N...\n",
              "17264517  LALMATIA BR.: CR. THE AMT TO  FVG SHAKWOT HOSS..."
            ]
          },
          "execution_count": 17,
          "metadata": {},
          "output_type": "execute_result"
        }
      ],
      "source": [
        "unique_narrations.sample(n=SAMP_CNT)\n"
      ]
    },
    {
      "cell_type": "code",
      "execution_count": 18,
      "metadata": {
        "colab": {
          "base_uri": "https://localhost:8080/"
        },
        "id": "yZCOxYcXVFw-",
        "outputId": "d76a2985-b051-44c4-aa42-b1a81b86525b"
      },
      "outputs": [
        {
          "name": "stderr",
          "output_type": "stream",
          "text": [
            "<ipython-input-25-8da7a7b2cb53>:1: SettingWithCopyWarning: \n",
            "A value is trying to be set on a copy of a slice from a DataFrame\n",
            "\n",
            "See the caveats in the documentation: https://pandas.pydata.org/pandas-docs/stable/user_guide/indexing.html#returning-a-view-versus-a-copy\n",
            "  unique_narrations.rename(columns = {'NARATION' : 'text'}, inplace = True)\n"
          ]
        }
      ],
      "source": [
        "unique_narrations.rename(columns = {'NARATION' : 'text'}, inplace = True)"
      ]
    },
    {
      "attachments": {},
      "cell_type": "markdown",
      "metadata": {
        "id": "pHIX42MA-QP6"
      },
      "source": [
        "## Cleaning"
      ]
    },
    {
      "cell_type": "code",
      "execution_count": 49,
      "metadata": {
        "id": "cuVUJETKfD4K"
      },
      "outputs": [],
      "source": [
        "df = unique_narrations.copy(deep=True)"
      ]
    },
    {
      "cell_type": "code",
      "execution_count": 50,
      "metadata": {
        "id": "2aAExA9EaFdL"
      },
      "outputs": [],
      "source": [
        "def toLower(df):\n",
        "  df['text'] = df['text'].apply(lambda z : str(z).lower())\n",
        "\n",
        "def eliminateNonAlphabet(df):\n",
        "  df['text'] = df['text'].str.replace(r'[^\\w\\s]+', ' ')\n",
        "  df['text'] = df['text'].replace( r'[^A-Za-z ]+', '', regex=True)\n",
        "\n",
        "def tokenize(df):\n",
        "  import nltk\n",
        "  nltk.download('punkt')\n",
        "  df['text'] = df['text'].apply(nltk.word_tokenize)\n",
        "\n",
        "def dropEmpty(df):\n",
        "  df.drop(df[df['text'].map(len) == 0].index, inplace = True)\n",
        "\n",
        "def lematize(df):\n",
        "  import nltk\n",
        "  from nltk.stem import WordNetLemmatizer\n",
        "  nltk.download('wordnet')\n",
        "  lemmatizer = WordNetLemmatizer()\n",
        "  df['text'] = df['text'].apply(lambda z : [lemmatizer.lemmatize(x) for x in z])\n",
        "\n",
        "def removeWord(df, stop):\n",
        "  df['text'] = df['text'].apply(lambda z : [word for word in z if word not in stop])\n",
        "\n",
        "def removeGeneralStopWords(df):\n",
        "  import nltk\n",
        "  from nltk.corpus import stopwords\n",
        "  nltk.download(\"stopwords\")\n",
        "  stop = set(stopwords.words(\"english\"))\n",
        "  removeWord(df, stop)\n",
        "\n",
        "def showAppearances(df1, df2, text):\n",
        "  return df1.loc[df2[df2['text'].map(lambda z : text in z) == True].index]\n",
        "\n",
        "def removeDup(df):\n",
        "  df.drop_duplicates(inplace = True)\n",
        "\n",
        "# def removeEmptyTokensRows(df):\n",
        "#   df.drop(df[df['text'].map(len) == 0].index, inplace = True)\n",
        "\n",
        "def removeCustomWords(df):\n",
        "  stops = ['ac', 'ae', 'md', 'akter', 'hossain', 'rahman', 'ltd', 'bazar', 'unnayan', 'dol', 'polli', 'mohila', 'ad', 'mia', 'ali', 'uddin', \n",
        "         'begum', 'tk', 'islam', 'amt', 'abdul', 'hasan', 'sonali', 'alam', 'miah', 'bangladesh' , 'per', 'taka',\n",
        "         'da', 'vai', 'agrani' , 'ahmed', 'hossen', 'khan', 'abu', 'janata', 'al', 'unnayon', 'b', 'amin', 'mamun', 'khatun', 'unnoyon',  'nur', 'haque']\n",
        "  notSure = ['mo', 'cap','fvg', 'islami', 'br', 'id' , 'dal', 'purush', 'nid', 'purpose', 'title', 'para', 'roll']\n",
        "  months = ['january', 'february', 'march', 'april', 'may', 'june', 'july', 'august', 'september', 'october', 'november', 'december', 'jan', 'feb', 'mar', 'apr', 'may', 'jun', 'jul', 'aug', 'sep', 'oct', 'nov', 'dec']\n",
        "  removeWord(df, set(stops + notSure + months))\n",
        "\n",
        "def replaceWord(df):\n",
        "  def func(lst):\n",
        "    try:\n",
        "      index = lst.index('withdrawal')\n",
        "      lst[index] = 'withdraw'\n",
        "    except:\n",
        "      None\n",
        "    return lst\n",
        "  df['text'] = df['text'].apply(func)\n",
        "\n",
        "def removeNonEnglishWord(df,keep):\n",
        "  import nltk\n",
        "  nltk.download('words')\n",
        "  from nltk.corpus import words\n",
        "  wordSet = set(words.words())\n",
        "  def func(row):\n",
        "    r2 = []\n",
        "    for w in row:\n",
        "      if (len(str(w)) > 2) and ((w in wordSet) or (w in keep)):\n",
        "        r2.append(w)\n",
        "\n",
        "    return r2 \n",
        "\n",
        "  df['text'] = df['text'].apply(func)\n",
        "\n",
        "# def removeNonEnglishWords(df):\n",
        "\n"
      ]
    },
    {
      "cell_type": "code",
      "execution_count": 51,
      "metadata": {
        "id": "KXQ6hLllhbHu"
      },
      "outputs": [],
      "source": [
        "def cleanEng(df, rDup = True):\n",
        "  toLower(df)\n",
        "  eliminateNonAlphabet(df)\n",
        "  if rDup:\n",
        "    removeDup(df)\n",
        "  tokenize(df)\n",
        "  lematize(df)\n",
        "  removeGeneralStopWords(df)\n",
        "  removeCustomWords(df)\n",
        "  replaceWord(df)\n",
        "  removeNonEnglishWord(df, set(['eftn', 'ft', 'bkash', 'nogod', 'rtgs', 'pos', 'sme', 'mst']))\n",
        "  dropEmpty(df)"
      ]
    },
    {
      "cell_type": "code",
      "execution_count": null,
      "metadata": {
        "id": "Yt3a4Nd0e9xt"
      },
      "outputs": [],
      "source": [
        "cleanEng(df, True)\n",
        "df"
      ]
    },
    {
      "attachments": {},
      "cell_type": "markdown",
      "metadata": {
        "id": "m9J2zk4bWgEC"
      },
      "source": [
        "## Exploration After Cleaning"
      ]
    },
    {
      "cell_type": "code",
      "execution_count": 53,
      "metadata": {
        "id": "PWGWkiYrksd_"
      },
      "outputs": [],
      "source": [
        "def plotFreqWords(df, n, title = 'Most Frequently Found Words in Narration', shape = (8,8)):\n",
        "  import itertools\n",
        "  import collections\n",
        "  import pandas as pd\n",
        "  import matplotlib.pyplot as plt\n",
        "  lemmatized_tokens = list(df['text'])\n",
        "  token_list = list(itertools.chain(*lemmatized_tokens))\n",
        "  counts_no = collections.Counter(token_list)\n",
        "  top_words = pd.DataFrame(counts_no.most_common(n), columns = ['words', 'count'])\n",
        "  fig, ax = plt.subplots(figsize=shape)\n",
        "  top_words.sort_values(by='count').plot.barh(x = 'words', y = 'count', ax = ax, color = 'blue')\n",
        "  ax.set_title(title)\n",
        "  plt.show()\n"
      ]
    },
    {
      "cell_type": "code",
      "execution_count": 54,
      "metadata": {
        "colab": {
          "base_uri": "https://localhost:8080/",
          "height": 0
        },
        "id": "pErEcONJSysY",
        "outputId": "54ba9ece-d69e-46e9-bf2b-82f3457d9723"
      },
      "outputs": [
        {
          "data": {
            "image/png": "[encoded data removed]",
            "text/plain": [
              "<Figure size 800x800 with 1 Axes>"
            ]
          },
          "metadata": {},
          "output_type": "display_data"
        }
      ],
      "source": [
        "plotFreqWords(df, 30)"
      ]
    },
    {
      "attachments": {},
      "cell_type": "markdown",
      "metadata": {
        "id": "_HbhOvJuSbpO"
      },
      "source": [
        "## Embedding "
      ]
    },
    {
      "cell_type": "code",
      "execution_count": null,
      "metadata": {
        "id": "IhqOd4U-IMCl"
      },
      "outputs": [],
      "source": [
        "def getEncodings(df,vectors, dim = 100):\n",
        "  import numpy as np\n",
        "  def getSentEmbedding(txt):\n",
        "    s = np.zeros(dim)\n",
        "    c = 0\n",
        "    for x in txt:\n",
        "      y = str(x)\n",
        "      if y in vectors:\n",
        "        s += vectors[y]\n",
        "        c += 1\n",
        "    return (s / c) if c != 0 else s\n",
        "\n",
        "  return np.vstack(df['text'].apply(getSentEmbedding).values)"
      ]
    },
    {
      "attachments": {},
      "cell_type": "markdown",
      "metadata": {
        "id": "yLZZz27Hsj8B"
      },
      "source": [
        "### Pre Trained w2v Functions"
      ]
    },
    {
      "cell_type": "code",
      "execution_count": 26,
      "metadata": {
        "colab": {
          "base_uri": "https://localhost:8080/"
        },
        "id": "U3vFS7xpSd-L",
        "outputId": "dc90cbec-176b-4472-d7db-166d5a6f75f0"
      },
      "outputs": [
        {
          "name": "stdout",
          "output_type": "stream",
          "text": [
            "Looking in indexes: https://pypi.org/simple, https://us-python.pkg.dev/colab-wheels/public/simple/\n",
            "Requirement already satisfied: gensim in /usr/local/lib/python3.10/dist-packages (4.3.1)\n",
            "Requirement already satisfied: numpy>=1.18.5 in /usr/local/lib/python3.10/dist-packages (from gensim) (1.22.4)\n",
            "Requirement already satisfied: scipy>=1.7.0 in /usr/local/lib/python3.10/dist-packages (from gensim) (1.10.1)\n",
            "Requirement already satisfied: smart-open>=1.8.1 in /usr/local/lib/python3.10/dist-packages (from gensim) (6.3.0)\n",
            "Looking in indexes: https://pypi.org/simple, https://us-python.pkg.dev/colab-wheels/public/simple/\n",
            "Requirement already satisfied: nltk in /usr/local/lib/python3.10/dist-packages (3.8.1)\n",
            "Requirement already satisfied: click in /usr/local/lib/python3.10/dist-packages (from nltk) (8.1.3)\n",
            "Requirement already satisfied: joblib in /usr/local/lib/python3.10/dist-packages (from nltk) (1.2.0)\n",
            "Requirement already satisfied: regex>=2021.8.3 in /usr/local/lib/python3.10/dist-packages (from nltk) (2022.10.31)\n",
            "Requirement already satisfied: tqdm in /usr/local/lib/python3.10/dist-packages (from nltk) (4.65.0)\n"
          ]
        }
      ],
      "source": [
        "!pip install gensim\n",
        "!pip install nltk"
      ]
    },
    {
      "cell_type": "code",
      "execution_count": 27,
      "metadata": {
        "id": "gqqguUJdAEEh"
      },
      "outputs": [],
      "source": [
        "def getVectorsPre(path, limit):\n",
        "  import gensim\n",
        "  from gensim.models import Word2Vec\n",
        "  model = gensim.models.KeyedVectors.load_word2vec_format(path, binary=True, limit = limit)\n",
        "  return model\n"
      ]
    },
    {
      "attachments": {},
      "cell_type": "markdown",
      "metadata": {
        "id": "g7UvyV0xkaDu"
      },
      "source": [
        "### Trained W2V functions"
      ]
    },
    {
      "cell_type": "code",
      "execution_count": 36,
      "metadata": {
        "id": "8sXaPvAD7Olu"
      },
      "outputs": [],
      "source": [
        "def getVectors(df, min_count = 5):\n",
        "  \n",
        "  import multiprocessing\n",
        "  from gensim.models import Word2Vec\n",
        "\n",
        "\n",
        "  texts = df.text.tolist()\n",
        "  cores = multiprocessing.cpu_count()\n",
        "  w2v_model = Word2Vec(sentences = texts, window = 2, vector_size = 100, min_count = min_count)\n",
        "  vectors = w2v_model.wv\n",
        "  return vectors\n"
      ]
    },
    {
      "attachments": {},
      "cell_type": "markdown",
      "metadata": {
        "id": "aIRIqVcyYI8L"
      },
      "source": [
        "### Sentence Transformers Functions"
      ]
    },
    {
      "cell_type": "code",
      "execution_count": null,
      "metadata": {
        "colab": {
          "base_uri": "https://localhost:8080/"
        },
        "id": "lFL4SmxiYa6d",
        "outputId": "1b488cc3-75e4-4de1-da4d-6986b70b6504"
      },
      "outputs": [],
      "source": [
        "!pip install -U sentence-transformers"
      ]
    },
    {
      "cell_type": "code",
      "execution_count": 69,
      "metadata": {
        "id": "vNTMEiGSYTLk"
      },
      "outputs": [],
      "source": [
        "\n",
        "def getModel():\n",
        "  from sentence_transformers import SentenceTransformer\n",
        "  model = SentenceTransformer('all-MiniLM-L6-v2')\n",
        "  return model\n",
        "def getEncodingsST(df, model):\n",
        "  sentences = df['text'].apply(lambda z : ' '.join(z)).to_list()\n",
        "  return model.encode(sentences)\n"
      ]
    },
    {
      "attachments": {},
      "cell_type": "markdown",
      "metadata": {
        "id": "QETHP6Cv_SUk"
      },
      "source": [
        "## Clustering"
      ]
    },
    {
      "attachments": {},
      "cell_type": "markdown",
      "metadata": {
        "id": "QFZOxBeoGV-U"
      },
      "source": [
        "### Functions"
      ]
    },
    {
      "cell_type": "code",
      "execution_count": 56,
      "metadata": {
        "id": "1jnZq-9D88Ri"
      },
      "outputs": [],
      "source": [
        "def normalize(encodings):\n",
        "  import numpy as np\n",
        "  norm = np.linalg.norm(encodings, axis = 1, keepdims = True)\n",
        "  norm[norm == 0] = 1\n",
        "  norm_encodings = encodings / norm\n",
        "  return norm_encodings\n",
        "\n",
        "def cluster(df, norm_encodings, k, colName):\n",
        "  from sklearn.cluster import KMeans\n",
        "  from sklearn.metrics import silhouette_score\n",
        "  \n",
        "  kmeans = KMeans(n_clusters=k).fit(norm_encodings)\n",
        "  centroids = kmeans.cluster_centers_\n",
        "  cluster_assignment = kmeans.predict(norm_encodings)\n",
        "  \n",
        "  df[colName] = cluster_assignment\n",
        "  return kmeans  \n",
        "\n",
        "def clusterDBSCAN(df,norm_encodings, col, mn, eps):\n",
        "  from sklearn.cluster import DBSCAN\n",
        "  dbscan=DBSCAN(min_samples = mn, eps = eps,algorithm='ball_tree')\n",
        "  clustering = dbscan.fit(norm_encodings)\n",
        "  df[col] = clustering.labels_\n",
        "  return clustering"
      ]
    },
    {
      "cell_type": "code",
      "execution_count": 57,
      "metadata": {
        "id": "CQHIxrUMDb-Q"
      },
      "outputs": [],
      "source": [
        "def createFreqWordsBarPlot(df, n, title = 'Most Frequently Found Words in Narration', shape = (8,8), ax = None):\n",
        "  import itertools\n",
        "  import collections\n",
        "  import pandas as pd\n",
        "  import matplotlib.pyplot as plt\n",
        "  lemmatized_tokens = list(df['text'])\n",
        "  token_list = list(itertools.chain(*lemmatized_tokens))\n",
        "  counts_no = collections.Counter(token_list)\n",
        "  top_words = pd.DataFrame(counts_no.most_common(n), columns = ['words', 'count'])\n",
        "  return top_words.sort_values(by='count').plot.barh(x = 'words', y = 'count', color = 'blue', ax = ax, title=title)\n"
      ]
    },
    {
      "cell_type": "code",
      "execution_count": 58,
      "metadata": {
        "id": "21zsWs_iGhIQ"
      },
      "outputs": [],
      "source": [
        "def plotClusterFreq(df,cluster_col, k, n, shape,ws,hs, s = 0):\n",
        "  from math import sqrt, ceil\n",
        "  import matplotlib.pyplot as plt\n",
        "  a = int(sqrt(k - s))\n",
        "  b = ceil((k - s) / a)\n",
        "  # print(a,b)\n",
        "  if b < a:\n",
        "    a += 1\n",
        "  a = int(a)\n",
        "  tsh = ((shape[0] + ws) * a, (shape[1] + hs) * b)\n",
        "\n",
        "  fig, ax = plt.subplots(nrows = a, ncols = b, figsize = tsh)\n",
        "  plt.subplots_adjust(wspace=ws, hspace=hs)\n",
        "  for i in range(s,k):\n",
        "    # print (i // b, i % b)\n",
        "    createFreqWordsBarPlot(df[df[cluster_col] == i],n,f'Cluster-{i}',shape,ax[i // b][i % b])\n",
        "  plt.show()\n"
      ]
    },
    {
      "attachments": {},
      "cell_type": "markdown",
      "metadata": {
        "id": "tycpuw1rGhSO"
      },
      "source": [
        "### Clusterings"
      ]
    },
    {
      "attachments": {},
      "cell_type": "markdown",
      "metadata": {
        "id": "jcOujvT3KNlV"
      },
      "source": [
        "#### Pre-Trained W2V"
      ]
    },
    {
      "attachments": {},
      "cell_type": "markdown",
      "metadata": {
        "id": "kazqZq9DSmRZ"
      },
      "source": [
        "##### K means"
      ]
    },
    {
      "cell_type": "code",
      "execution_count": 59,
      "metadata": {
        "id": "lkQUB__zIpJI"
      },
      "outputs": [],
      "source": [
        "import gensim.downloader as api\n",
        "path = api.load(\"word2vec-google-news-300\", return_path=True)"
      ]
    },
    {
      "cell_type": "code",
      "execution_count": 60,
      "metadata": {
        "colab": {
          "base_uri": "https://localhost:8080/",
          "height": 345
        },
        "id": "xM2PuPIR93o_",
        "outputId": "11722d99-53b1-480e-d68d-220dfc2875e6"
      },
      "outputs": [
        {
          "name": "stderr",
          "output_type": "stream",
          "text": [
            "[--------------------------------------------------] 0.9% 15.3/1662.8MB downloaded"
          ]
        },
        {
          "data": {
            "image/png": "[encoded data removed]",
            "text/plain": [
              "<Figure size 1440x1650 with 15 Axes>"
            ]
          },
          "metadata": {},
          "output_type": "display_data"
        }
      ],
      "source": [
        "k = 13\n",
        "col = f'{k}-means-clustering-pre-trained-w2v'\n",
        "n = 7\n",
        "vectors = getVectorsPre(path, 1000000)\n",
        "encodings = getEncodings(df, vectors, 300)\n",
        "norm_encodings = normalize(encodings)\n",
        "kmeans_model = cluster(df, norm_encodings, k, col)\n",
        "plotClusterFreq(df,col,k,n,(4,3), .8, .3)\n"
      ]
    },
    {
      "attachments": {},
      "cell_type": "markdown",
      "metadata": {
        "id": "nrXKuWrQSs9C"
      },
      "source": [
        "##### DBSCAN"
      ]
    },
    {
      "cell_type": "code",
      "execution_count": null,
      "metadata": {
        "id": "2_4ZTdL0R-wy"
      },
      "outputs": [],
      "source": [
        "dbscan_model = clusterDBSCAN(df, norm_encodings, col, 100, .1)\n",
        "plotClusterFreq(df,col,k,n,(4,3), .8, .3)"
      ]
    },
    {
      "attachments": {},
      "cell_type": "markdown",
      "metadata": {
        "id": "HX2EtpFsCv8W"
      },
      "source": [
        "#### Trained W2V"
      ]
    },
    {
      "attachments": {},
      "cell_type": "markdown",
      "metadata": {
        "id": "YlZGNpArS3vK"
      },
      "source": [
        "##### k means"
      ]
    },
    {
      "cell_type": "code",
      "execution_count": 61,
      "metadata": {
        "colab": {
          "base_uri": "https://localhost:8080/",
          "height": 0
        },
        "id": "YZVhchMFf7SP",
        "outputId": "ff2b363c-34b9-4732-fa78-26848f4feeec"
      },
      "outputs": [
        {
          "name": "stderr",
          "output_type": "stream",
          "text": [
            "/usr/local/lib/python3.10/dist-packages/sklearn/cluster/_kmeans.py:870: FutureWarning: The default value of `n_init` will change from 10 to 'auto' in 1.4. Set the value of `n_init` explicitly to suppress the warning\n",
            "  warnings.warn(\n"
          ]
        },
        {
          "data": {
            "image/png": "[encoded data removed]",
            "text/plain": [
              "<Figure size 1440x1650 with 15 Axes>"
            ]
          },
          "metadata": {},
          "output_type": "display_data"
        }
      ],
      "source": [
        "k = 13\n",
        "col = f'{k}-means-clustering-trained-w2v'\n",
        "n = 10\n",
        "vectors = getVectors(df, 1)\n",
        "encodings = getEncodings(df, vectors)\n",
        "norm_encodings = normalize(encodings)\n",
        "kmeans_model = cluster(df, norm_encodings, k, col)\n",
        "plotClusterFreq(df,col,k,n,(4,3), .8, .3)"
      ]
    },
    {
      "attachments": {},
      "cell_type": "markdown",
      "metadata": {
        "id": "gXrHkljkS75v"
      },
      "source": [
        "##### DBSCAN"
      ]
    },
    {
      "cell_type": "code",
      "execution_count": null,
      "metadata": {
        "id": "X3PBRnfrSawU"
      },
      "outputs": [],
      "source": [
        "dbscan_model = clusterDBSCAN(df, norm_encodings, col, 100, .1)\n",
        "plotClusterFreq(df,col,k,n,(4,3), .8, .3)"
      ]
    },
    {
      "attachments": {},
      "cell_type": "markdown",
      "metadata": {
        "id": "_Ew7J2SPTV-o"
      },
      "source": [
        "#### Sentence Transformers"
      ]
    },
    {
      "attachments": {},
      "cell_type": "markdown",
      "metadata": {
        "id": "vdiOPRUWZPfl"
      },
      "source": [
        "##### kmeans"
      ]
    },
    {
      "cell_type": "code",
      "execution_count": null,
      "metadata": {
        "colab": {
          "base_uri": "https://localhost:8080/",
          "height": 1000,
          "referenced_widgets": [
            "663cc280cd664364a2fe3c5fe4611b32",
            "8d0618c9c08740b480536955b3b11deb",
            "def6be4bdb2147d6adb5a4a4529f22d7",
            "d6939d348a894d8bbe3f905831935a43",
            "481ea80d9e944915a23d03748f607c32",
            "f8070ee668a949cb8ec38a5102816fd8",
            "764a4afe901543ad9b2a46ecd09c5688",
            "9454cfe8946646b9a272026e7ea45038",
            "5fc1d4d4c46a4627a840fd2b23dfa39f",
            "002a0421308a45b5aaec1aa2abe36b5f",
            "59ebafa527284ad88552fda23b49612f",
            "5f9512cd30aa43288e7937c041060131",
            "8df5519ce0694d2ca0fe1c1800798203",
            "0f86090bedeb45c2990a22fc11e354ad",
            "4f977761c0804c2d83028198ffc63a86",
            "0655f8cf8b844bccbefe69e373b87099",
            "debc3bd87b744d928fe6bc4436ed223d",
            "a61e998cfdf74ce1b78211faf6b7ccd5",
            "b8ca78b35f554d53b290c0fd722e5888",
            "9020e5656af1450c96d61b8a0cca422c",
            "571e29a87c6840c4af813f9ad0771b88",
            "5f22464a20044c09a629bec541a4be43",
            "21e62c5bec914c31b875f399814839ca",
            "2705af7ffc9a44c1a99481f8643e5986",
            "4f11289e672d4d04b32551a6a5a10482",
            "c6f997c0e4f04c94abd32753f18a27f3",
            "defe59fbb37146158c945a4e16b18032",
            "78a8fdf15e514897a0906f7b87200824",
            "68f47582d7f64ef8bc10b7f705640838",
            "d4a2259d732c4f738cc03bfc262f29ae",
            "ead056565ca848ccb01495d3858ca15f",
            "20ffc767836349f3a5bd0ed1ee5f8c6a",
            "2669f63143434d87b5ff0ce30fb25e5f",
            "9bfb4b8cbf304ba799627a66002d15f2",
            "05e6cc2308dd4ce5b78b50564b545b0c",
            "4191d2fa54004b85b372f0639728c52b",
            "51fd35e89445496d85aee08e479f606b",
            "7fb1dd6014104299b410f86f5410e013",
            "c7b6c69f9466440286898321d96dd3ea",
            "2512e876ce2049c29e5192419fb1d52f",
            "bb7b6e3fba1b47d1ad21d5f770bce882",
            "52c750fa6f21454480446eab2a2f78e1",
            "7a33974e114b4634aab28787ab621ee0",
            "a4cd0472bc2a4ea3baa7c7f775bae20e",
            "0a4c1196e3cc4fdaa5c0b9de79fcb4f8",
            "0b582ab8e62d4a0eaae01cb09badd277",
            "0426425ab4a0402b9231951ec49902aa",
            "344b9e9767774226ad7a3b87ef867338",
            "34096286a33646f798c5abf35fdc8dba",
            "6d6c985cd7f94c8dab14cad5306a9a2c",
            "7c8787a44cf44f58af2ac55464b7934d",
            "5fab809bfc534298924140c6f643f67d",
            "086f7639e2194966adcffc9d96596018",
            "c144a285e443490c8bf461bd6238d1e9",
            "78310188def94cf8bf230df7200e8ea4",
            "f975c94723ff4dbb8ee77141f4ab3dcb",
            "5308554c172141e29ca62a3281f37adc",
            "5836737c8551430594c4f14023da4541",
            "27b6c80cc9714209a0bb868408dd56db",
            "dac8bb633a264b3e9de05ed45bf016a9",
            "3b0a25bbd6a4499686b8d2e986cfe5e1",
            "ae46156e26af42a186aedfb07d83e898",
            "75dcf88d68af4ac9bc9eb83bc59ecec3",
            "7b07e60f300f4825b697547b08486f17",
            "5bd2454fbd3e441ea221a43384f28ea5",
            "845a32250f5f4b448a3d692150e70f24",
            "562d5dc1a2a74b4588b251b29e2c498d",
            "2787698ee9c747e78a38626dc807adcb",
            "098446198bf74320bebdbb5f4f6185f7",
            "bb99547d15b24823ba5f3247ff084384",
            "bb0cbfa522c846798fdc861be82bc3c3",
            "cfd9a3eb73e64107803057793b8264c8",
            "286963be4b1548f4b8e2a331b8f8ff07",
            "5d0877b86c304bd881b2772b58f86da1",
            "2129b3d275454db2b51def0093c16c2f",
            "bc21294501f049bf95ff9887501fa126",
            "f23ca521fa6b4d25ada375d994b8de53",
            "60fb6f039d0c4d899de3f60bdbfbe7f7",
            "4269ffbe290f433296e36c570ec31852",
            "117dfb4bb00440959162b752d34cc306",
            "1b0fb7b4b0e541f9a7c66b525240e4db",
            "3b7d4bfb388646cda8ca619c4f6e70a4",
            "109a9f494f354e8b8e9e4b703d15f619",
            "026ae919c5484d99999ff2d399c7da3a",
            "eabeff2d2cb64de0b30d9a874f57f6f7",
            "b6fc7d8780154253b287fa06d4cc2b69",
            "a2176d01e47e403098a6b741240f286b",
            "0b5b8d800cc04de29f3416e195ae645a",
            "7593acaefdc84f4788cf09e42e2740b7",
            "2849f2d82c794e78900bcc8a6cbee0be",
            "7212f0664567419187c11032aa8abc5c",
            "080114c8b07640ce94c7dfc83b972caa",
            "833e3754017448869401311bfd3695c4",
            "943db56d960e446c9fa4ba6de9fea33c",
            "3a50da8cad114ac39a8802db1ccebb55",
            "47292d2e922141479aa1e213e2d9b87a",
            "77e6378b3a344f05a3e9c209eab1d74e",
            "576a25a41f01421885a612aa68e1ba14",
            "e61f278e2e8842a4a7c2d94575d4001b",
            "23e01153d2f14e5595465985aa4f9204",
            "34ba05b5f2b94fbb9764f4f0f00c8b23",
            "0ce38875d94740a49dabde73c6a4ab28",
            "7c78a44e840641259ea6f9b40969500d",
            "e940f784e90c42d992abc8ebc13099dd",
            "198fde37b738446f95a674f35981f538",
            "a6e97939c84948dbbf0a7b3530988270",
            "36771d9d8a434778920fd7a409d3e613",
            "ea0d5a145b1242629e18d0313e3255cd",
            "403efc02e4964246bfc0da3b309b66f2",
            "78dbdd536f6549a084369d5a30e4a3fd",
            "c577183bfb87436a87e721d7d529f169",
            "ac04395ee1df44fcbb91e815d038135b",
            "fb169c34f84444ca80746f341861e17a",
            "bc038f2f79c14c4aaaefd3bed6b7802f",
            "a061940abdfc4f8dbdf9bdf341473a06",
            "da6687c1da194bd59e1d54d2b756ae9f",
            "c847d4cff6d8447cb2ed187b2885eecc",
            "3bc90dd825cd4a17a5084aa1271339e3",
            "750c8725874d489fb3688e986b20d578",
            "00a853699ce54bd08e090770c6c69e75",
            "119034225bd048f7aef9e51f0391bd00",
            "a28664d3720e408ca7a945e324dfca1e",
            "d0ac19b7d14e478eb12b6b5196571808",
            "9fdffa630c3a40d58002a6300fb54973",
            "5f2a260b78aa46aab9fe6ddc64e09714",
            "3898d4b9fcfc40db9f0007982cb26dc1",
            "05e007581aaa44868360f0c3cec985d7",
            "fbc91cbb639b4a19919a8e1fe4b1fed1",
            "23cee3354308441399112aab6301e903",
            "633cac468224418fb1aae95cf7ebecc3",
            "10764587f2e34a73b807695134a7836d",
            "dede993edbba4eec8cd8c54c74ec67d7",
            "845db850a84f499eac648735318b7ea1",
            "e9d1f712fe7244b4a3a8df5118e3c437",
            "f9e1729665f9486388af34bfb9a4503c",
            "0822ba689dc64ce9ae1e9909bf76d9d3",
            "b878472d3475448f8c269c1764262a98",
            "e775ffd019c04c24aa01d1378c329fd6",
            "b398b123bbea4c8580f54b3a100c4c9f",
            "bb78b0f028064ac7a1e6e94b3b3bb01d",
            "6340ea6419e945c79bcd1caec0852f0b",
            "1db725f9155f4bb9b1b3402be39fd4e9",
            "d9fa5a48c33943c6ba51e7310df8ccba",
            "d1860c7313ff4c9d969aeaacac891451",
            "44a952fbcf394b148d33c7cb2775abce",
            "043204b0ea3841febfa084111af5630b",
            "3fd7cc3c264d440a89ef42210c62404c",
            "a425e1d8a4bd469aa42a4c562c6171cb",
            "5f94172dba264b54a9555c36d957f7e7",
            "137c26482e184f1fb2a928948ddc6c7b",
            "44d7ddb45fe041d886917454eefffc4b",
            "c190ad748c5849e7ac822d0d9d2280e3",
            "62344145a5584b9789f2d23deeaef833",
            "3c8e7b218c2141dfbdefd74b6e577161"
          ]
        },
        "id": "bzYCqrJdrVLu",
        "outputId": "7b4e8050-2ad9-4055-9c2e-183b88c9cace"
      },
      "outputs": [
        {
          "name": "stderr",
          "output_type": "stream",
          "text": [
            "/usr/local/lib/python3.10/dist-packages/sklearn/cluster/_kmeans.py:870: FutureWarning: The default value of `n_init` will change from 10 to 'auto' in 1.4. Set the value of `n_init` explicitly to suppress the warning\n",
            "  warnings.warn(\n"
          ]
        },
        {
          "data": {
            "image/png": "[encoded data removed]",
            "text/plain": [
              "<Figure size 1440x1650 with 15 Axes>"
            ]
          },
          "metadata": {},
          "output_type": "display_data"
        }
      ],
      "source": [
        "k = 13\n",
        "col = f'{k}-means-clustering-sentence-transformer'\n",
        "model = getModel()\n",
        "encodings = getEncodingsST(df, model)\n",
        "norm_encodings = normalize(encodings)\n",
        "kmeans_model = cluster(df, norm_encodings, k, col)\n",
        "plotClusterFreq(df,col,k,n,(4,3), .8, .3)"
      ]
    },
    {
      "attachments": {},
      "cell_type": "markdown",
      "metadata": {
        "id": "FeNl0bTYZSFr"
      },
      "source": [
        "##### DBSCAN"
      ]
    },
    {
      "cell_type": "code",
      "execution_count": null,
      "metadata": {
        "id": "GO_Hcf75aYYN"
      },
      "outputs": [],
      "source": [
        "dbscan_model = clusterDBSCAN(df, norm_encodings, col, 100, .1)\n",
        "plotClusterFreq(df,col,k,n,(4,3), .8, .3)"
      ]
    },
    {
      "attachments": {},
      "cell_type": "markdown",
      "metadata": {
        "id": "NPZVgl0XKXcG"
      },
      "source": [
        "## Test"
      ]
    },
    {
      "cell_type": "code",
      "execution_count": 70,
      "metadata": {
        "id": "sW-Tb3ZSKb3-"
      },
      "outputs": [],
      "source": [
        "testPath = '/content/drive/MyDrive/Test.xlsx'\n",
        "import pandas as pd\n",
        "testDf = pd.read_excel(testPath)\n",
        "testDf.drop([0, '0.1', '0.2', '0.3', '0.5'],axis = 1,inplace = True)\n",
        "testDf.rename(columns = {'0.4' : 'text', '0.6' : 'cluster'}, inplace = True)"
      ]
    },
    {
      "cell_type": "code",
      "execution_count": 71,
      "metadata": {
        "id": "C-1uTUTnMDYW"
      },
      "outputs": [],
      "source": [
        "tdf = testDf.copy(deep = True)"
      ]
    },
    {
      "cell_type": "code",
      "execution_count": 72,
      "metadata": {
        "colab": {
          "base_uri": "https://localhost:8080/"
        },
        "id": "rrLlcKeCMIGY",
        "outputId": "521c0834-0396-4d80-dc20-bb2ec55b6f20"
      },
      "outputs": [
        {
          "name": "stderr",
          "output_type": "stream",
          "text": [
            "<ipython-input-27-b2f73e7e5f5d>:5: FutureWarning: The default value of regex will change from True to False in a future version.\n",
            "  df['text'] = df['text'].str.replace(r'[^\\w\\s]+', ' ')\n",
            "[nltk_data] Downloading package punkt to /root/nltk_data...\n",
            "[nltk_data]   Package punkt is already up-to-date!\n",
            "[nltk_data] Downloading package wordnet to /root/nltk_data...\n",
            "[nltk_data]   Package wordnet is already up-to-date!\n",
            "[nltk_data] Downloading package stopwords to /root/nltk_data...\n",
            "[nltk_data]   Package stopwords is already up-to-date!\n",
            "[nltk_data] Downloading package words to /root/nltk_data...\n",
            "[nltk_data]   Package words is already up-to-date!\n"
          ]
        }
      ],
      "source": [
        "cleanEng(tdf, True)\n",
        "# encodings = getEncodings(tdf, vectors, 300)\n",
        "# norm_encodings = normalize(encodings)\n",
        "# predictions = kmeans_model.predict(norm_encodings)"
      ]
    },
    {
      "cell_type": "code",
      "execution_count": 73,
      "metadata": {
        "id": "M9bdT7JGVsLr"
      },
      "outputs": [],
      "source": [
        "def getPredictionW2V(df, vectors, kmeans_model, dim):\n",
        "  encodings = getEncodings(df, vectors, dim)\n",
        "  norm_encodings = normalize(encodings)\n",
        "  return kmeans_model.predict(norm_encodings)"
      ]
    },
    {
      "cell_type": "code",
      "execution_count": null,
      "metadata": {
        "id": "TLdvz2hFlCIX"
      },
      "outputs": [],
      "source": [
        "def getPredictionST(df,model)"
      ]
    },
    {
      "cell_type": "code",
      "execution_count": null,
      "metadata": {
        "colab": {
          "base_uri": "https://localhost:8080/"
        },
        "id": "g_maev69V5RF",
        "outputId": "b4fd29fa-1866-4e8b-b84d-4877df446def"
      },
      "outputs": [
        {
          "name": "stdout",
          "output_type": "stream",
          "text": [
            "1 [10 10  1 10]\n",
            "2 [10 10]\n",
            "3 [11]\n",
            "4 [11]\n",
            "5 [1 1]\n",
            "6 [0]\n",
            "7 [11 11]\n",
            "8 [9]\n",
            "9 [1 1]\n",
            "10 [ 9 11]\n",
            "11 [11]\n",
            "12 [11]\n",
            "13 [2 2 2]\n",
            "14 [9]\n"
          ]
        }
      ],
      "source": [
        "for i in range(1, 15):\n",
        "  # print(tdf[tdf['cluster'] == i])\n",
        "  print(i, getPredictionW2V(tdf[tdf['cluster'] == i], vectors, kmeans_model, 100))"
      ]
    },
    {
      "cell_type": "code",
      "execution_count": null,
      "metadata": {
        "id": "sMF5ptIAVk9Y",
        "outputId": "28ef0e11-de09-4667-9c4f-1aeb8eb5e66a",
        "colab": {
          "base_uri": "https://localhost:8080/"
        }
      },
      "outputs": [
        {
          "data": {
            "text/html": [
              "\n",
              "  <div id=\"df-97251ae4-3378-4f78-b72b-8b812b80f599\">\n",
              "    <div class=\"colab-df-container\">\n",
              "      <div>\n",
              "<style scoped>\n",
              "    .dataframe tbody tr th:only-of-type {\n",
              "        vertical-align: middle;\n",
              "    }\n",
              "\n",
              "    .dataframe tbody tr th {\n",
              "        vertical-align: top;\n",
              "    }\n",
              "\n",
              "    .dataframe thead th {\n",
              "        text-align: right;\n",
              "    }\n",
              "</style>\n",
              "<table border=\"1\" class=\"dataframe\">\n",
              "  <thead>\n",
              "    <tr style=\"text-align: right;\">\n",
              "      <th></th>\n",
              "      <th>text</th>\n",
              "      <th>14-means-clustering</th>\n",
              "    </tr>\n",
              "  </thead>\n",
              "  <tbody>\n",
              "    <tr>\n",
              "      <th>15847774</th>\n",
              "      <td>[vendor, amount, pay, order, issue, favor, delivery, delivery, service, delivery]</td>\n",
              "      <td>13</td>\n",
              "    </tr>\n",
              "    <tr>\n",
              "      <th>8841276</th>\n",
              "      <td>[sir, dar]</td>\n",
              "      <td>13</td>\n",
              "    </tr>\n",
              "    <tr>\n",
              "      <th>19413347</th>\n",
              "      <td>[business]</td>\n",
              "      <td>13</td>\n",
              "    </tr>\n",
              "    <tr>\n",
              "      <th>3338935</th>\n",
              "      <td>[arrange]</td>\n",
              "      <td>13</td>\n",
              "    </tr>\n",
              "    <tr>\n",
              "      <th>1211839</th>\n",
              "      <td>[debit, company, fund, collection, collection]</td>\n",
              "      <td>13</td>\n",
              "    </tr>\n",
              "    <tr>\n",
              "      <th>200634</th>\n",
              "      <td>[agent, float, share]</td>\n",
              "      <td>13</td>\n",
              "    </tr>\n",
              "    <tr>\n",
              "      <th>8381557</th>\n",
              "      <td>[p, bill]</td>\n",
              "      <td>13</td>\n",
              "    </tr>\n",
              "    <tr>\n",
              "      <th>9361094</th>\n",
              "      <td>[gas, bill]</td>\n",
              "      <td>13</td>\n",
              "    </tr>\n",
              "    <tr>\n",
              "      <th>18575376</th>\n",
              "      <td>[profit]</td>\n",
              "      <td>13</td>\n",
              "    </tr>\n",
              "    <tr>\n",
              "      <th>14129785</th>\n",
              "      <td>[service, charge, electric, bill, month]</td>\n",
              "      <td>13</td>\n",
              "    </tr>\n",
              "    <tr>\n",
              "      <th>2461124</th>\n",
              "      <td>[low]</td>\n",
              "      <td>13</td>\n",
              "    </tr>\n",
              "    <tr>\n",
              "      <th>16953933</th>\n",
              "      <td>[rent, perfect, cut]</td>\n",
              "      <td>13</td>\n",
              "    </tr>\n",
              "    <tr>\n",
              "      <th>19961332</th>\n",
              "      <td>[tax, commission, middle, ware, transaction, month]</td>\n",
              "      <td>13</td>\n",
              "    </tr>\n",
              "    <tr>\n",
              "      <th>16459618</th>\n",
              "      <td>[house, rent]</td>\n",
              "      <td>13</td>\n",
              "    </tr>\n",
              "    <tr>\n",
              "      <th>17085634</th>\n",
              "      <td>[program, cost, transfer, project, officer]</td>\n",
              "      <td>13</td>\n",
              "    </tr>\n",
              "    <tr>\n",
              "      <th>2255383</th>\n",
              "      <td>[outlet, k]</td>\n",
              "      <td>13</td>\n",
              "    </tr>\n",
              "    <tr>\n",
              "      <th>19157084</th>\n",
              "      <td>[electric, bill]</td>\n",
              "      <td>13</td>\n",
              "    </tr>\n",
              "    <tr>\n",
              "      <th>8203990</th>\n",
              "      <td>[revenue, stamp]</td>\n",
              "      <td>13</td>\n",
              "    </tr>\n",
              "    <tr>\n",
              "      <th>17849684</th>\n",
              "      <td>[purchase, brick, contractor]</td>\n",
              "      <td>13</td>\n",
              "    </tr>\n",
              "    <tr>\n",
              "      <th>19395019</th>\n",
              "      <td>[cash, deposit, rural, development, team]</td>\n",
              "      <td>13</td>\n",
              "    </tr>\n",
              "    <tr>\n",
              "      <th>4029159</th>\n",
              "      <td>[contributor]</td>\n",
              "      <td>13</td>\n",
              "    </tr>\n",
              "    <tr>\n",
              "      <th>15384397</th>\n",
              "      <td>[bill, check, book, printer]</td>\n",
              "      <td>13</td>\n",
              "    </tr>\n",
              "    <tr>\n",
              "      <th>6144952</th>\n",
              "      <td>[wrong, posting]</td>\n",
              "      <td>13</td>\n",
              "    </tr>\n",
              "    <tr>\n",
              "      <th>8564032</th>\n",
              "      <td>[bill, advance]</td>\n",
              "      <td>13</td>\n",
              "    </tr>\n",
              "    <tr>\n",
              "      <th>18769398</th>\n",
              "      <td>[agent, incentive]</td>\n",
              "      <td>13</td>\n",
              "    </tr>\n",
              "    <tr>\n",
              "      <th>9342958</th>\n",
              "      <td>[phone, bill]</td>\n",
              "      <td>13</td>\n",
              "    </tr>\n",
              "    <tr>\n",
              "      <th>11215691</th>\n",
              "      <td>[spend, k, rupee]</td>\n",
              "      <td>13</td>\n",
              "    </tr>\n",
              "    <tr>\n",
              "      <th>19466085</th>\n",
              "      <td>[rent]</td>\n",
              "      <td>13</td>\n",
              "    </tr>\n",
              "    <tr>\n",
              "      <th>12835813</th>\n",
              "      <td>[one, thirty, thousand]</td>\n",
              "      <td>13</td>\n",
              "    </tr>\n",
              "    <tr>\n",
              "      <th>17397234</th>\n",
              "      <td>[wrong, transaction, micro]</td>\n",
              "      <td>13</td>\n",
              "    </tr>\n",
              "  </tbody>\n",
              "</table>\n",
              "</div>\n",
              "      <button class=\"colab-df-convert\" onclick=\"convertToInteractive('df-97251ae4-3378-4f78-b72b-8b812b80f599')\"\n",
              "              title=\"Convert this dataframe to an interactive table.\"\n",
              "              style=\"display:none;\">\n",
              "        \n",
              "  <svg xmlns=\"http://www.w3.org/2000/svg\" height=\"24px\"viewBox=\"0 0 24 24\"\n",
              "       width=\"24px\">\n",
              "    <path d=\"M0 0h24v24H0V0z\" fill=\"none\"/>\n",
              "    <path d=\"M18.56 5.44l.94 2.06.94-2.06 2.06-.94-2.06-.94-.94-2.06-.94 2.06-2.06.94zm-11 1L8.5 8.5l.94-2.06 2.06-.94-2.06-.94L8.5 2.5l-.94 2.06-2.06.94zm10 10l.94 2.06.94-2.06 2.06-.94-2.06-.94-.94-2.06-.94 2.06-2.06.94z\"/><path d=\"M17.41 7.96l-1.37-1.37c-.4-.4-.92-.59-1.43-.59-.52 0-1.04.2-1.43.59L10.3 9.45l-7.72 7.72c-.78.78-.78 2.05 0 2.83L4 21.41c.39.39.9.59 1.41.59.51 0 1.02-.2 1.41-.59l7.78-7.78 2.81-2.81c.8-.78.8-2.07 0-2.86zM5.41 20L4 18.59l7.72-7.72 1.47 1.35L5.41 20z\"/>\n",
              "  </svg>\n",
              "      </button>\n",
              "      \n",
              "  <style>\n",
              "    .colab-df-container {\n",
              "      display:flex;\n",
              "      flex-wrap:wrap;\n",
              "      gap: 12px;\n",
              "    }\n",
              "\n",
              "    .colab-df-convert {\n",
              "      background-color: #E8F0FE;\n",
              "      border: none;\n",
              "      border-radius: 50%;\n",
              "      cursor: pointer;\n",
              "      display: none;\n",
              "      fill: #1967D2;\n",
              "      height: 32px;\n",
              "      padding: 0 0 0 0;\n",
              "      width: 32px;\n",
              "    }\n",
              "\n",
              "    .colab-df-convert:hover {\n",
              "      background-color: #E2EBFA;\n",
              "      box-shadow: 0px 1px 2px rgba(60, 64, 67, 0.3), 0px 1px 3px 1px rgba(60, 64, 67, 0.15);\n",
              "      fill: #174EA6;\n",
              "    }\n",
              "\n",
              "    [theme=dark] .colab-df-convert {\n",
              "      background-color: #3B4455;\n",
              "      fill: #D2E3FC;\n",
              "    }\n",
              "\n",
              "    [theme=dark] .colab-df-convert:hover {\n",
              "      background-color: #434B5C;\n",
              "      box-shadow: 0px 1px 3px 1px rgba(0, 0, 0, 0.15);\n",
              "      filter: drop-shadow(0px 1px 2px rgba(0, 0, 0, 0.3));\n",
              "      fill: #FFFFFF;\n",
              "    }\n",
              "  </style>\n",
              "\n",
              "      <script>\n",
              "        const buttonEl =\n",
              "          document.querySelector('#df-97251ae4-3378-4f78-b72b-8b812b80f599 button.colab-df-convert');\n",
              "        buttonEl.style.display =\n",
              "          google.colab.kernel.accessAllowed ? 'block' : 'none';\n",
              "\n",
              "        async function convertToInteractive(key) {\n",
              "          const element = document.querySelector('#df-97251ae4-3378-4f78-b72b-8b812b80f599');\n",
              "          const dataTable =\n",
              "            await google.colab.kernel.invokeFunction('convertToInteractive',\n",
              "                                                     [key], {});\n",
              "          if (!dataTable) return;\n",
              "\n",
              "          const docLinkHtml = 'Like what you see? Visit the ' +\n",
              "            '<a target=\"_blank\" href=https://colab.research.google.com/notebooks/data_table.ipynb>data table notebook</a>'\n",
              "            + ' to learn more about interactive tables.';\n",
              "          element.innerHTML = '';\n",
              "          dataTable['output_type'] = 'display_data';\n",
              "          await google.colab.output.renderOutput(dataTable, element);\n",
              "          const docLink = document.createElement('div');\n",
              "          docLink.innerHTML = docLinkHtml;\n",
              "          element.appendChild(docLink);\n",
              "        }\n",
              "      </script>\n",
              "    </div>\n",
              "  </div>\n",
              "  "
            ],
            "text/plain": [
              "                                                                                       text  \\\n",
              "15847774  [vendor, amount, pay, order, issue, favor, delivery, delivery, service, delivery]   \n",
              "8841276                                                                          [sir, dar]   \n",
              "19413347                                                                         [business]   \n",
              "3338935                                                                           [arrange]   \n",
              "1211839                                      [debit, company, fund, collection, collection]   \n",
              "200634                                                                [agent, float, share]   \n",
              "8381557                                                                           [p, bill]   \n",
              "9361094                                                                         [gas, bill]   \n",
              "18575376                                                                           [profit]   \n",
              "14129785                                           [service, charge, electric, bill, month]   \n",
              "2461124                                                                               [low]   \n",
              "16953933                                                               [rent, perfect, cut]   \n",
              "19961332                                [tax, commission, middle, ware, transaction, month]   \n",
              "16459618                                                                      [house, rent]   \n",
              "17085634                                        [program, cost, transfer, project, officer]   \n",
              "2255383                                                                         [outlet, k]   \n",
              "19157084                                                                   [electric, bill]   \n",
              "8203990                                                                    [revenue, stamp]   \n",
              "17849684                                                      [purchase, brick, contractor]   \n",
              "19395019                                          [cash, deposit, rural, development, team]   \n",
              "4029159                                                                       [contributor]   \n",
              "15384397                                                       [bill, check, book, printer]   \n",
              "6144952                                                                    [wrong, posting]   \n",
              "8564032                                                                     [bill, advance]   \n",
              "18769398                                                                 [agent, incentive]   \n",
              "9342958                                                                       [phone, bill]   \n",
              "11215691                                                                  [spend, k, rupee]   \n",
              "19466085                                                                             [rent]   \n",
              "12835813                                                            [one, thirty, thousand]   \n",
              "17397234                                                        [wrong, transaction, micro]   \n",
              "\n",
              "          14-means-clustering  \n",
              "15847774                   13  \n",
              "8841276                    13  \n",
              "19413347                   13  \n",
              "3338935                    13  \n",
              "1211839                    13  \n",
              "200634                     13  \n",
              "8381557                    13  \n",
              "9361094                    13  \n",
              "18575376                   13  \n",
              "14129785                   13  \n",
              "2461124                    13  \n",
              "16953933                   13  \n",
              "19961332                   13  \n",
              "16459618                   13  \n",
              "17085634                   13  \n",
              "2255383                    13  \n",
              "19157084                   13  \n",
              "8203990                    13  \n",
              "17849684                   13  \n",
              "19395019                   13  \n",
              "4029159                    13  \n",
              "15384397                   13  \n",
              "6144952                    13  \n",
              "8564032                    13  \n",
              "18769398                   13  \n",
              "9342958                    13  \n",
              "11215691                   13  \n",
              "19466085                   13  \n",
              "12835813                   13  \n",
              "17397234                   13  "
            ]
          },
          "execution_count": 50,
          "metadata": {},
          "output_type": "execute_result"
        }
      ],
      "source": [
        "df[df[col] == 13].sample(30)"
      ]
    },
    {
      "cell_type": "code",
      "execution_count": null,
      "metadata": {
        "colab": {
          "base_uri": "https://localhost:8080/",
          "height": 424
        },
        "id": "ANgcO-5uL_tr",
        "outputId": "dceeeb40-9e88-495a-ad84-bbc7a15c6e40"
      },
      "outputs": [
        {
          "data": {
            "text/html": [
              "\n",
              "  <div id=\"df-fa9f89e0-bb30-47ed-93c9-eb9a0d31fbe4\">\n",
              "    <div class=\"colab-df-container\">\n",
              "      <div>\n",
              "<style scoped>\n",
              "    .dataframe tbody tr th:only-of-type {\n",
              "        vertical-align: middle;\n",
              "    }\n",
              "\n",
              "    .dataframe tbody tr th {\n",
              "        vertical-align: top;\n",
              "    }\n",
              "\n",
              "    .dataframe thead th {\n",
              "        text-align: right;\n",
              "    }\n",
              "</style>\n",
              "<table border=\"1\" class=\"dataframe\">\n",
              "  <thead>\n",
              "    <tr style=\"text-align: right;\">\n",
              "      <th></th>\n",
              "      <th>text</th>\n",
              "      <th>14-means-clustering</th>\n",
              "    </tr>\n",
              "  </thead>\n",
              "  <tbody>\n",
              "    <tr>\n",
              "      <th>0</th>\n",
              "      <td>[cash, withdraw]</td>\n",
              "      <td>8</td>\n",
              "    </tr>\n",
              "    <tr>\n",
              "      <th>1</th>\n",
              "      <td>[cash, withdraw]</td>\n",
              "      <td>8</td>\n",
              "    </tr>\n",
              "    <tr>\n",
              "      <th>2</th>\n",
              "      <td>[cash, withdraw, micro, merchant, point]</td>\n",
              "      <td>8</td>\n",
              "    </tr>\n",
              "    <tr>\n",
              "      <th>3</th>\n",
              "      <td>[credit, merchant, cash, withdraw, service]</td>\n",
              "      <td>0</td>\n",
              "    </tr>\n",
              "    <tr>\n",
              "      <th>6</th>\n",
              "      <td>[cash, deposit]</td>\n",
              "      <td>12</td>\n",
              "    </tr>\n",
              "    <tr>\n",
              "      <th>...</th>\n",
              "      <td>...</td>\n",
              "      <td>...</td>\n",
              "    </tr>\n",
              "    <tr>\n",
              "      <th>22533189</th>\n",
              "      <td>[smart, regular, fund, transfer]</td>\n",
              "      <td>1</td>\n",
              "    </tr>\n",
              "    <tr>\n",
              "      <th>22533913</th>\n",
              "      <td>[cash, deposit, global]</td>\n",
              "      <td>12</td>\n",
              "    </tr>\n",
              "    <tr>\n",
              "      <th>22534938</th>\n",
              "      <td>[smart, regular, fund, transfer]</td>\n",
              "      <td>1</td>\n",
              "    </tr>\n",
              "    <tr>\n",
              "      <th>22535747</th>\n",
              "      <td>[smart, regular, fund, transfer, bank]</td>\n",
              "      <td>1</td>\n",
              "    </tr>\n",
              "    <tr>\n",
              "      <th>22536483</th>\n",
              "      <td>[cash, deposit, sme]</td>\n",
              "      <td>12</td>\n",
              "    </tr>\n",
              "  </tbody>\n",
              "</table>\n",
              "<p>85346 rows × 2 columns</p>\n",
              "</div>\n",
              "      <button class=\"colab-df-convert\" onclick=\"convertToInteractive('df-fa9f89e0-bb30-47ed-93c9-eb9a0d31fbe4')\"\n",
              "              title=\"Convert this dataframe to an interactive table.\"\n",
              "              style=\"display:none;\">\n",
              "        \n",
              "  <svg xmlns=\"http://www.w3.org/2000/svg\" height=\"24px\"viewBox=\"0 0 24 24\"\n",
              "       width=\"24px\">\n",
              "    <path d=\"M0 0h24v24H0V0z\" fill=\"none\"/>\n",
              "    <path d=\"M18.56 5.44l.94 2.06.94-2.06 2.06-.94-2.06-.94-.94-2.06-.94 2.06-2.06.94zm-11 1L8.5 8.5l.94-2.06 2.06-.94-2.06-.94L8.5 2.5l-.94 2.06-2.06.94zm10 10l.94 2.06.94-2.06 2.06-.94-2.06-.94-.94-2.06-.94 2.06-2.06.94z\"/><path d=\"M17.41 7.96l-1.37-1.37c-.4-.4-.92-.59-1.43-.59-.52 0-1.04.2-1.43.59L10.3 9.45l-7.72 7.72c-.78.78-.78 2.05 0 2.83L4 21.41c.39.39.9.59 1.41.59.51 0 1.02-.2 1.41-.59l7.78-7.78 2.81-2.81c.8-.78.8-2.07 0-2.86zM5.41 20L4 18.59l7.72-7.72 1.47 1.35L5.41 20z\"/>\n",
              "  </svg>\n",
              "      </button>\n",
              "      \n",
              "  <style>\n",
              "    .colab-df-container {\n",
              "      display:flex;\n",
              "      flex-wrap:wrap;\n",
              "      gap: 12px;\n",
              "    }\n",
              "\n",
              "    .colab-df-convert {\n",
              "      background-color: #E8F0FE;\n",
              "      border: none;\n",
              "      border-radius: 50%;\n",
              "      cursor: pointer;\n",
              "      display: none;\n",
              "      fill: #1967D2;\n",
              "      height: 32px;\n",
              "      padding: 0 0 0 0;\n",
              "      width: 32px;\n",
              "    }\n",
              "\n",
              "    .colab-df-convert:hover {\n",
              "      background-color: #E2EBFA;\n",
              "      box-shadow: 0px 1px 2px rgba(60, 64, 67, 0.3), 0px 1px 3px 1px rgba(60, 64, 67, 0.15);\n",
              "      fill: #174EA6;\n",
              "    }\n",
              "\n",
              "    [theme=dark] .colab-df-convert {\n",
              "      background-color: #3B4455;\n",
              "      fill: #D2E3FC;\n",
              "    }\n",
              "\n",
              "    [theme=dark] .colab-df-convert:hover {\n",
              "      background-color: #434B5C;\n",
              "      box-shadow: 0px 1px 3px 1px rgba(0, 0, 0, 0.15);\n",
              "      filter: drop-shadow(0px 1px 2px rgba(0, 0, 0, 0.3));\n",
              "      fill: #FFFFFF;\n",
              "    }\n",
              "  </style>\n",
              "\n",
              "      <script>\n",
              "        const buttonEl =\n",
              "          document.querySelector('#df-fa9f89e0-bb30-47ed-93c9-eb9a0d31fbe4 button.colab-df-convert');\n",
              "        buttonEl.style.display =\n",
              "          google.colab.kernel.accessAllowed ? 'block' : 'none';\n",
              "\n",
              "        async function convertToInteractive(key) {\n",
              "          const element = document.querySelector('#df-fa9f89e0-bb30-47ed-93c9-eb9a0d31fbe4');\n",
              "          const dataTable =\n",
              "            await google.colab.kernel.invokeFunction('convertToInteractive',\n",
              "                                                     [key], {});\n",
              "          if (!dataTable) return;\n",
              "\n",
              "          const docLinkHtml = 'Like what you see? Visit the ' +\n",
              "            '<a target=\"_blank\" href=https://colab.research.google.com/notebooks/data_table.ipynb>data table notebook</a>'\n",
              "            + ' to learn more about interactive tables.';\n",
              "          element.innerHTML = '';\n",
              "          dataTable['output_type'] = 'display_data';\n",
              "          await google.colab.output.renderOutput(dataTable, element);\n",
              "          const docLink = document.createElement('div');\n",
              "          docLink.innerHTML = docLinkHtml;\n",
              "          element.appendChild(docLink);\n",
              "        }\n",
              "      </script>\n",
              "    </div>\n",
              "  </div>\n",
              "  "
            ],
            "text/plain": [
              "                                                 text  14-means-clustering\n",
              "0                                    [cash, withdraw]                    8\n",
              "1                                    [cash, withdraw]                    8\n",
              "2            [cash, withdraw, micro, merchant, point]                    8\n",
              "3         [credit, merchant, cash, withdraw, service]                    0\n",
              "6                                     [cash, deposit]                   12\n",
              "...                                               ...                  ...\n",
              "22533189             [smart, regular, fund, transfer]                    1\n",
              "22533913                      [cash, deposit, global]                   12\n",
              "22534938             [smart, regular, fund, transfer]                    1\n",
              "22535747       [smart, regular, fund, transfer, bank]                    1\n",
              "22536483                         [cash, deposit, sme]                   12\n",
              "\n",
              "[85346 rows x 2 columns]"
            ]
          },
          "execution_count": 59,
          "metadata": {},
          "output_type": "execute_result"
        }
      ],
      "source": [
        "df[df['text'].map(len) <= 5]"
      ]
    },
    {
      "cell_type": "code",
      "execution_count": null,
      "metadata": {
        "colab": {
          "base_uri": "https://localhost:8080/",
          "height": 363
        },
        "id": "TD3jCZUfUvb1",
        "outputId": "d0e35634-a8fe-4176-fdb4-81427103a1c5"
      },
      "outputs": [
        {
          "data": {
            "text/html": [
              "\n",
              "  <div id=\"df-0d585d16-b6c2-45ff-a338-008529e73c81\">\n",
              "    <div class=\"colab-df-container\">\n",
              "      <div>\n",
              "<style scoped>\n",
              "    .dataframe tbody tr th:only-of-type {\n",
              "        vertical-align: middle;\n",
              "    }\n",
              "\n",
              "    .dataframe tbody tr th {\n",
              "        vertical-align: top;\n",
              "    }\n",
              "\n",
              "    .dataframe thead th {\n",
              "        text-align: right;\n",
              "    }\n",
              "</style>\n",
              "<table border=\"1\" class=\"dataframe\">\n",
              "  <thead>\n",
              "    <tr style=\"text-align: right;\">\n",
              "      <th></th>\n",
              "      <th>text</th>\n",
              "      <th>cluster</th>\n",
              "    </tr>\n",
              "  </thead>\n",
              "  <tbody>\n",
              "    <tr>\n",
              "      <th>11</th>\n",
              "      <td>Debit For New ATM Card Charge.</td>\n",
              "      <td>3</td>\n",
              "    </tr>\n",
              "    <tr>\n",
              "      <th>13</th>\n",
              "      <td>Debit Against Palli Bidyut Bill Collection.</td>\n",
              "      <td>4</td>\n",
              "    </tr>\n",
              "    <tr>\n",
              "      <th>22</th>\n",
              "      <td>Debit Against Palli Bidyut Bill Collection.</td>\n",
              "      <td>4</td>\n",
              "    </tr>\n",
              "    <tr>\n",
              "      <th>25</th>\n",
              "      <td>Debit Against Debit Card Transaction</td>\n",
              "      <td>6</td>\n",
              "    </tr>\n",
              "    <tr>\n",
              "      <th>29</th>\n",
              "      <td>Project (Social Safety Net Payment) Payment to A/C:</td>\n",
              "      <td>11</td>\n",
              "    </tr>\n",
              "    <tr>\n",
              "      <th>34</th>\n",
              "      <td>Debit Against Palli Bidyut Bill Collection.</td>\n",
              "      <td>4</td>\n",
              "    </tr>\n",
              "    <tr>\n",
              "      <th>44</th>\n",
              "      <td>CIB Charge &amp; VAT of</td>\n",
              "      <td>12</td>\n",
              "    </tr>\n",
              "    <tr>\n",
              "      <th>47</th>\n",
              "      <td>Debit Against Company Fund Collection (MetLife Alico)</td>\n",
              "      <td>7</td>\n",
              "    </tr>\n",
              "    <tr>\n",
              "      <th>48</th>\n",
              "      <td>Project (Social Safety Net Payment) Payment to A/C:</td>\n",
              "      <td>7</td>\n",
              "    </tr>\n",
              "    <tr>\n",
              "      <th>49</th>\n",
              "      <td>Debit Against Debit Card Transaction</td>\n",
              "      <td>6</td>\n",
              "    </tr>\n",
              "  </tbody>\n",
              "</table>\n",
              "</div>\n",
              "      <button class=\"colab-df-convert\" onclick=\"convertToInteractive('df-0d585d16-b6c2-45ff-a338-008529e73c81')\"\n",
              "              title=\"Convert this dataframe to an interactive table.\"\n",
              "              style=\"display:none;\">\n",
              "        \n",
              "  <svg xmlns=\"http://www.w3.org/2000/svg\" height=\"24px\"viewBox=\"0 0 24 24\"\n",
              "       width=\"24px\">\n",
              "    <path d=\"M0 0h24v24H0V0z\" fill=\"none\"/>\n",
              "    <path d=\"M18.56 5.44l.94 2.06.94-2.06 2.06-.94-2.06-.94-.94-2.06-.94 2.06-2.06.94zm-11 1L8.5 8.5l.94-2.06 2.06-.94-2.06-.94L8.5 2.5l-.94 2.06-2.06.94zm10 10l.94 2.06.94-2.06 2.06-.94-2.06-.94-.94-2.06-.94 2.06-2.06.94z\"/><path d=\"M17.41 7.96l-1.37-1.37c-.4-.4-.92-.59-1.43-.59-.52 0-1.04.2-1.43.59L10.3 9.45l-7.72 7.72c-.78.78-.78 2.05 0 2.83L4 21.41c.39.39.9.59 1.41.59.51 0 1.02-.2 1.41-.59l7.78-7.78 2.81-2.81c.8-.78.8-2.07 0-2.86zM5.41 20L4 18.59l7.72-7.72 1.47 1.35L5.41 20z\"/>\n",
              "  </svg>\n",
              "      </button>\n",
              "      \n",
              "  <style>\n",
              "    .colab-df-container {\n",
              "      display:flex;\n",
              "      flex-wrap:wrap;\n",
              "      gap: 12px;\n",
              "    }\n",
              "\n",
              "    .colab-df-convert {\n",
              "      background-color: #E8F0FE;\n",
              "      border: none;\n",
              "      border-radius: 50%;\n",
              "      cursor: pointer;\n",
              "      display: none;\n",
              "      fill: #1967D2;\n",
              "      height: 32px;\n",
              "      padding: 0 0 0 0;\n",
              "      width: 32px;\n",
              "    }\n",
              "\n",
              "    .colab-df-convert:hover {\n",
              "      background-color: #E2EBFA;\n",
              "      box-shadow: 0px 1px 2px rgba(60, 64, 67, 0.3), 0px 1px 3px 1px rgba(60, 64, 67, 0.15);\n",
              "      fill: #174EA6;\n",
              "    }\n",
              "\n",
              "    [theme=dark] .colab-df-convert {\n",
              "      background-color: #3B4455;\n",
              "      fill: #D2E3FC;\n",
              "    }\n",
              "\n",
              "    [theme=dark] .colab-df-convert:hover {\n",
              "      background-color: #434B5C;\n",
              "      box-shadow: 0px 1px 3px 1px rgba(0, 0, 0, 0.15);\n",
              "      filter: drop-shadow(0px 1px 2px rgba(0, 0, 0, 0.3));\n",
              "      fill: #FFFFFF;\n",
              "    }\n",
              "  </style>\n",
              "\n",
              "      <script>\n",
              "        const buttonEl =\n",
              "          document.querySelector('#df-0d585d16-b6c2-45ff-a338-008529e73c81 button.colab-df-convert');\n",
              "        buttonEl.style.display =\n",
              "          google.colab.kernel.accessAllowed ? 'block' : 'none';\n",
              "\n",
              "        async function convertToInteractive(key) {\n",
              "          const element = document.querySelector('#df-0d585d16-b6c2-45ff-a338-008529e73c81');\n",
              "          const dataTable =\n",
              "            await google.colab.kernel.invokeFunction('convertToInteractive',\n",
              "                                                     [key], {});\n",
              "          if (!dataTable) return;\n",
              "\n",
              "          const docLinkHtml = 'Like what you see? Visit the ' +\n",
              "            '<a target=\"_blank\" href=https://colab.research.google.com/notebooks/data_table.ipynb>data table notebook</a>'\n",
              "            + ' to learn more about interactive tables.';\n",
              "          element.innerHTML = '';\n",
              "          dataTable['output_type'] = 'display_data';\n",
              "          await google.colab.output.renderOutput(dataTable, element);\n",
              "          const docLink = document.createElement('div');\n",
              "          docLink.innerHTML = docLinkHtml;\n",
              "          element.appendChild(docLink);\n",
              "        }\n",
              "      </script>\n",
              "    </div>\n",
              "  </div>\n",
              "  "
            ],
            "text/plain": [
              "                                                     text  cluster\n",
              "11                         Debit For New ATM Card Charge.        3\n",
              "13           Debit Against Palli Bidyut Bill Collection.         4\n",
              "22           Debit Against Palli Bidyut Bill Collection.         4\n",
              "25                   Debit Against Debit Card Transaction        6\n",
              "29   Project (Social Safety Net Payment) Payment to A/C:        11\n",
              "34           Debit Against Palli Bidyut Bill Collection.         4\n",
              "44                                  CIB Charge & VAT of         12\n",
              "47  Debit Against Company Fund Collection (MetLife Alico)        7\n",
              "48   Project (Social Safety Net Payment) Payment to A/C:         7\n",
              "49                   Debit Against Debit Card Transaction        6"
            ]
          },
          "execution_count": 80,
          "metadata": {},
          "output_type": "execute_result"
        }
      ],
      "source": [
        "# testDf[(tdf['cluster'] == 3) | (tdf['cluster'] == 4) | (tdf['cluster'] == 6) | (tdf['cluster'] == 7) | (tdf['cluster'] == 11) | (tdf['cluster'] == 12) ]"
      ]
    },
    {
      "cell_type": "code",
      "execution_count": null,
      "metadata": {
        "id": "HWHU8rXaXwdN"
      },
      "outputs": [],
      "source": []
    },
    {
      "attachments": {},
      "cell_type": "markdown",
      "metadata": {
        "id": "8v4vZDQmWivF"
      },
      "source": [
        "## Sentence Transoformers (End to End)"
      ]
    },
    {
      "cell_type": "code",
      "execution_count": null,
      "metadata": {
        "id": "rXnHboY6xn3J"
      },
      "outputs": [],
      "source": [
        "testPath = '/content/drive/MyDrive/Test.xlsx'\n",
        "import pandas as pd\n",
        "testDf = pd.read_excel(testPath)\n",
        "testDf.drop([0, '0.1', '0.2', '0.3', '0.5'],axis = 1,inplace = True)\n",
        "testDf.rename(columns = {'0.4' : 'text', '0.6' : 'cluster'}, inplace = True)"
      ]
    },
    {
      "cell_type": "code",
      "execution_count": null,
      "metadata": {
        "id": "YI8Um_luyVVQ"
      },
      "outputs": [],
      "source": [
        "def getPredictionSent(df):\n",
        "  encodings = model.encode(df['text'].to_list())\n",
        "  norm_encodings = normalize(encodings)\n",
        "  return kmeans_model.predict(norm_encodings)"
      ]
    },
    {
      "cell_type": "code",
      "execution_count": null,
      "metadata": {
        "colab": {
          "base_uri": "https://localhost:8080/"
        },
        "id": "FcDTCI9Cx910",
        "outputId": "1d15a155-2935-4892-dba3-1c5df540e981"
      },
      "outputs": [
        {
          "name": "stdout",
          "output_type": "stream",
          "text": [
            "1 [5 0 0 0]\n",
            "2 [6 6]\n",
            "3 [14]\n",
            "4 [14]\n",
            "5 [ 2 14]\n",
            "6 [14]\n",
            "7 [14  2]\n",
            "8 [14]\n",
            "9 [0 0]\n",
            "10 [14 14]\n",
            "11 [2]\n",
            "12 [2]\n",
            "13 [14 14 14]\n",
            "14 [2]\n"
          ]
        }
      ],
      "source": [
        "tdf = testDf.copy(deep = True)\n",
        "eliminateNonAlphabet(tdf)\n",
        "removeDup(tdf)\n",
        "for i in range(1, 15):\n",
        "  print(i,getPredictionSent(tdf[tdf['cluster'] == i]))"
      ]
    },
    {
      "cell_type": "code",
      "execution_count": null,
      "metadata": {
        "colab": {
          "base_uri": "https://localhost:8080/",
          "height": 81
        },
        "id": "4pryH_dSGQK-",
        "outputId": "f16d4316-9a9b-4bcd-f970-c19546c97e63"
      },
      "outputs": [
        {
          "data": {
            "text/html": [
              "\n",
              "  <div id=\"df-cc797c2f-d343-4ad5-b3c4-e75d858bde4a\">\n",
              "    <div class=\"colab-df-container\">\n",
              "      <div>\n",
              "<style scoped>\n",
              "    .dataframe tbody tr th:only-of-type {\n",
              "        vertical-align: middle;\n",
              "    }\n",
              "\n",
              "    .dataframe tbody tr th {\n",
              "        vertical-align: top;\n",
              "    }\n",
              "\n",
              "    .dataframe thead th {\n",
              "        text-align: right;\n",
              "    }\n",
              "</style>\n",
              "<table border=\"1\" class=\"dataframe\">\n",
              "  <thead>\n",
              "    <tr style=\"text-align: right;\">\n",
              "      <th></th>\n",
              "      <th>text</th>\n",
              "      <th>cluster</th>\n",
              "    </tr>\n",
              "  </thead>\n",
              "  <tbody>\n",
              "    <tr>\n",
              "      <th>44</th>\n",
              "      <td>CIB Charge  VAT of</td>\n",
              "      <td>12</td>\n",
              "    </tr>\n",
              "  </tbody>\n",
              "</table>\n",
              "</div>\n",
              "      <button class=\"colab-df-convert\" onclick=\"convertToInteractive('df-cc797c2f-d343-4ad5-b3c4-e75d858bde4a')\"\n",
              "              title=\"Convert this dataframe to an interactive table.\"\n",
              "              style=\"display:none;\">\n",
              "        \n",
              "  <svg xmlns=\"http://www.w3.org/2000/svg\" height=\"24px\"viewBox=\"0 0 24 24\"\n",
              "       width=\"24px\">\n",
              "    <path d=\"M0 0h24v24H0V0z\" fill=\"none\"/>\n",
              "    <path d=\"M18.56 5.44l.94 2.06.94-2.06 2.06-.94-2.06-.94-.94-2.06-.94 2.06-2.06.94zm-11 1L8.5 8.5l.94-2.06 2.06-.94-2.06-.94L8.5 2.5l-.94 2.06-2.06.94zm10 10l.94 2.06.94-2.06 2.06-.94-2.06-.94-.94-2.06-.94 2.06-2.06.94z\"/><path d=\"M17.41 7.96l-1.37-1.37c-.4-.4-.92-.59-1.43-.59-.52 0-1.04.2-1.43.59L10.3 9.45l-7.72 7.72c-.78.78-.78 2.05 0 2.83L4 21.41c.39.39.9.59 1.41.59.51 0 1.02-.2 1.41-.59l7.78-7.78 2.81-2.81c.8-.78.8-2.07 0-2.86zM5.41 20L4 18.59l7.72-7.72 1.47 1.35L5.41 20z\"/>\n",
              "  </svg>\n",
              "      </button>\n",
              "      \n",
              "  <style>\n",
              "    .colab-df-container {\n",
              "      display:flex;\n",
              "      flex-wrap:wrap;\n",
              "      gap: 12px;\n",
              "    }\n",
              "\n",
              "    .colab-df-convert {\n",
              "      background-color: #E8F0FE;\n",
              "      border: none;\n",
              "      border-radius: 50%;\n",
              "      cursor: pointer;\n",
              "      display: none;\n",
              "      fill: #1967D2;\n",
              "      height: 32px;\n",
              "      padding: 0 0 0 0;\n",
              "      width: 32px;\n",
              "    }\n",
              "\n",
              "    .colab-df-convert:hover {\n",
              "      background-color: #E2EBFA;\n",
              "      box-shadow: 0px 1px 2px rgba(60, 64, 67, 0.3), 0px 1px 3px 1px rgba(60, 64, 67, 0.15);\n",
              "      fill: #174EA6;\n",
              "    }\n",
              "\n",
              "    [theme=dark] .colab-df-convert {\n",
              "      background-color: #3B4455;\n",
              "      fill: #D2E3FC;\n",
              "    }\n",
              "\n",
              "    [theme=dark] .colab-df-convert:hover {\n",
              "      background-color: #434B5C;\n",
              "      box-shadow: 0px 1px 3px 1px rgba(0, 0, 0, 0.15);\n",
              "      filter: drop-shadow(0px 1px 2px rgba(0, 0, 0, 0.3));\n",
              "      fill: #FFFFFF;\n",
              "    }\n",
              "  </style>\n",
              "\n",
              "      <script>\n",
              "        const buttonEl =\n",
              "          document.querySelector('#df-cc797c2f-d343-4ad5-b3c4-e75d858bde4a button.colab-df-convert');\n",
              "        buttonEl.style.display =\n",
              "          google.colab.kernel.accessAllowed ? 'block' : 'none';\n",
              "\n",
              "        async function convertToInteractive(key) {\n",
              "          const element = document.querySelector('#df-cc797c2f-d343-4ad5-b3c4-e75d858bde4a');\n",
              "          const dataTable =\n",
              "            await google.colab.kernel.invokeFunction('convertToInteractive',\n",
              "                                                     [key], {});\n",
              "          if (!dataTable) return;\n",
              "\n",
              "          const docLinkHtml = 'Like what you see? Visit the ' +\n",
              "            '<a target=\"_blank\" href=https://colab.research.google.com/notebooks/data_table.ipynb>data table notebook</a>'\n",
              "            + ' to learn more about interactive tables.';\n",
              "          element.innerHTML = '';\n",
              "          dataTable['output_type'] = 'display_data';\n",
              "          await google.colab.output.renderOutput(dataTable, element);\n",
              "          const docLink = document.createElement('div');\n",
              "          docLink.innerHTML = docLinkHtml;\n",
              "          element.appendChild(docLink);\n",
              "        }\n",
              "      </script>\n",
              "    </div>\n",
              "  </div>\n",
              "  "
            ],
            "text/plain": [
              "                    text  cluster\n",
              "44  CIB Charge  VAT of         12"
            ]
          },
          "execution_count": 109,
          "metadata": {},
          "output_type": "execute_result"
        }
      ],
      "source": [
        "tdf[tdf['cluster'] == 12]"
      ]
    },
    {
      "cell_type": "code",
      "execution_count": null,
      "metadata": {
        "colab": {
          "base_uri": "https://localhost:8080/"
        },
        "id": "sKylIm7xGbNW",
        "outputId": "f6b9a583-cc35-4f39-94a6-1ee98d1bb7fa"
      },
      "outputs": [
        {
          "data": {
            "text/plain": [
              "False"
            ]
          },
          "execution_count": 113,
          "metadata": {},
          "output_type": "execute_result"
        }
      ],
      "source": [
        "'esfn' in vectors"
      ]
    },
    {
      "cell_type": "code",
      "execution_count": null,
      "metadata": {
        "colab": {
          "base_uri": "https://localhost:8080/"
        },
        "id": "pzKl7QtkzIu9",
        "outputId": "9118f084-f999-46ca-d300-3ed318f3db7d"
      },
      "outputs": [
        {
          "data": {
            "text/plain": [
              "(24, 2)"
            ]
          },
          "execution_count": 99,
          "metadata": {},
          "output_type": "execute_result"
        }
      ],
      "source": [
        "tdf.shape"
      ]
    },
    {
      "attachments": {},
      "cell_type": "markdown",
      "metadata": {
        "id": "MvjaOG2z_Ehj"
      },
      "source": [
        "### Lang Detection"
      ]
    },
    {
      "cell_type": "code",
      "execution_count": null,
      "metadata": {
        "colab": {
          "base_uri": "https://localhost:8080/"
        },
        "id": "iJ568E3Y9mav",
        "outputId": "d767dd31-8c07-4d8c-ea26-f0250b3e5809"
      },
      "outputs": [
        {
          "name": "stdout",
          "output_type": "stream",
          "text": [
            "Looking in indexes: https://pypi.org/simple, https://us-python.pkg.dev/colab-wheels/public/simple/\n",
            "Collecting langid\n",
            "  Downloading langid-1.1.6.tar.gz (1.9 MB)\n",
            "\u001b[2K     \u001b[90m━━━━━━━━━━━━━━━━━━━━━━━━━━━━━━━━━━━━━━━━\u001b[0m \u001b[32m1.9/1.9 MB\u001b[0m \u001b[31m44.4 MB/s\u001b[0m eta \u001b[36m0:00:00\u001b[0m\n",
            "\u001b[?25h  Preparing metadata (setup.py) ... \u001b[?25l\u001b[?25hdone\n",
            "Requirement already satisfied: numpy in /usr/local/lib/python3.10/dist-packages (from langid) (1.22.4)\n",
            "Building wheels for collected packages: langid\n",
            "  Building wheel for langid (setup.py) ... \u001b[?25l\u001b[?25hdone\n",
            "  Created wheel for langid: filename=langid-1.1.6-py3-none-any.whl size=1941171 sha256=3ff6f8cb974e5d3a96e9bad799f3728b02fd98473e4d84ed9a43ab840eca8487\n",
            "  Stored in directory: /root/.cache/pip/wheels/23/c8/c6/eed80894918490a175677414d40bd7c851413bbe03d4856c3c\n",
            "Successfully built langid\n",
            "Installing collected packages: langid\n",
            "Successfully installed langid-1.1.6\n"
          ]
        }
      ],
      "source": [
        "!pip install langid"
      ]
    },
    {
      "cell_type": "code",
      "execution_count": null,
      "metadata": {
        "colab": {
          "base_uri": "https://localhost:8080/"
        },
        "id": "KK9qRVOF-uKv",
        "outputId": "ffb52dc8-9497-457f-e209-14d8184f8ce9"
      },
      "outputs": [
        {
          "data": {
            "text/plain": [
              "('bn', -446.38835191726685)"
            ]
          },
          "execution_count": 63,
          "metadata": {},
          "output_type": "execute_result"
        }
      ],
      "source": [
        "import langid\n",
        "langid.classify(\"জাকির মোমিন রবিউল উকিল আলামিন শাহাদত আনিছ মোট  হাজার টাকা নভেম্বর মাস\")"
      ]
    },
    {
      "cell_type": "code",
      "execution_count": null,
      "metadata": {
        "colab": {
          "base_uri": "https://localhost:8080/"
        },
        "id": "70JCpYKM2y8f",
        "outputId": "ca7e3ad6-d7f3-4f67-b856-8b1824315d16"
      },
      "outputs": [
        {
          "name": "stdout",
          "output_type": "stream",
          "text": [
            "831\n"
          ]
        }
      ],
      "source": [
        "cnt = 0\n",
        "for i in range(uniques.shape[0]):\n",
        "  text = uniques.iloc[i]['NARATION']\n",
        "  try:\n",
        "    lang = langid.classify(text)[0]\n",
        "    if(lang == 'bn'):\n",
        "      cnt += 1\n",
        "      # print(text)\n",
        "      # print(lang)\n",
        "  except Exception as error :\n",
        "    print(text, lang, i)\n",
        "    # print(lang)\n",
        "    print(error)\n",
        "    break\n",
        "\n",
        "print(cnt)"
      ]
    },
    {
      "attachments": {},
      "cell_type": "markdown",
      "metadata": {
        "id": "xqg3icLG_NEO"
      },
      "source": []
    },
    {
      "cell_type": "code",
      "execution_count": null,
      "metadata": {
        "id": "-43zM0bB-yMr"
      },
      "outputs": [],
      "source": [
        "model.encode(['THis is a sentence'])"
      ]
    },
    {
      "cell_type": "code",
      "execution_count": null,
      "metadata": {
        "id": "8jmumncCJKPx"
      },
      "outputs": [],
      "source": [
        "arr = uniques.loc[:,'NARATION'].values"
      ]
    },
    {
      "cell_type": "code",
      "execution_count": null,
      "metadata": {
        "id": "XR5zz4PYJbOX"
      },
      "outputs": [],
      "source": [
        "arr\n"
      ]
    },
    {
      "cell_type": "code",
      "execution_count": null,
      "metadata": {
        "colab": {
          "base_uri": "https://localhost:8080/"
        },
        "id": "h04Po7_BJcOv",
        "outputId": "96c8b0b9-94b9-4c51-f9a2-7c2d0a8cec4b"
      },
      "outputs": [
        {
          "data": {
            "text/plain": [
              "numpy.ndarray"
            ]
          },
          "execution_count": 87,
          "metadata": {},
          "output_type": "execute_result"
        }
      ],
      "source": [
        "type(arr)"
      ]
    },
    {
      "cell_type": "code",
      "execution_count": null,
      "metadata": {
        "id": "Xg59L7pDJetI"
      },
      "outputs": [],
      "source": [
        "enocdings = model.encode(arr)"
      ]
    },
    {
      "cell_type": "code",
      "execution_count": null,
      "metadata": {
        "colab": {
          "base_uri": "https://localhost:8080/"
        },
        "id": "4xi0t3jYJt4Z",
        "outputId": "5bef4bef-3bf8-4634-f4a0-2bcff5f84b34"
      },
      "outputs": [
        {
          "data": {
            "text/plain": [
              "array([[ 0.00188374,  0.04863172, -0.02690281, ...,  0.01412175,\n",
              "        -0.00927342, -0.04137693],\n",
              "       [-0.07740939,  0.0434949 , -0.01827168, ..., -0.03888908,\n",
              "        -0.06046326,  0.00504448],\n",
              "       [ 0.02279887,  0.03478767, -0.03007546, ..., -0.03131324,\n",
              "        -0.08227921, -0.01777196],\n",
              "       ...,\n",
              "       [ 0.02806198,  0.010154  , -0.05075606, ...,  0.04637393,\n",
              "         0.04741295, -0.0801269 ],\n",
              "       [ 0.07406023,  0.0173737 , -0.09031081, ...,  0.0308701 ,\n",
              "         0.06341256, -0.05154131],\n",
              "       [ 0.0792704 , -0.01986493, -0.07471365, ..., -0.01642665,\n",
              "         0.06073492, -0.05393577]], dtype=float32)"
            ]
          },
          "execution_count": 92,
          "metadata": {},
          "output_type": "execute_result"
        }
      ],
      "source": [
        "enocdings"
      ]
    },
    {
      "cell_type": "code",
      "execution_count": null,
      "metadata": {
        "id": "ndJgUiI0QCpt"
      },
      "outputs": [],
      "source": [
        "enocdings[0]"
      ]
    },
    {
      "cell_type": "code",
      "execution_count": null,
      "metadata": {
        "id": "cAlSNlqhQ7eL"
      },
      "outputs": [],
      "source": [
        "encodings = enocdings"
      ]
    },
    {
      "attachments": {},
      "cell_type": "markdown",
      "metadata": {
        "id": "EQJQ3qMIYZDy"
      },
      "source": [
        "## Named Entity Recognition"
      ]
    },
    {
      "cell_type": "code",
      "execution_count": null,
      "metadata": {
        "colab": {
          "base_uri": "https://localhost:8080/",
          "height": 424
        },
        "id": "ndKZrAJ7Ycsd",
        "outputId": "2554b598-fbde-4d53-8bae-a99a22fb0ccf"
      },
      "outputs": [
        {
          "data": {
            "text/html": [
              "\n",
              "  <div id=\"df-b7ff990a-0ec6-4d49-96ce-4b4ce696d70b\">\n",
              "    <div class=\"colab-df-container\">\n",
              "      <div>\n",
              "<style scoped>\n",
              "    .dataframe tbody tr th:only-of-type {\n",
              "        vertical-align: middle;\n",
              "    }\n",
              "\n",
              "    .dataframe tbody tr th {\n",
              "        vertical-align: top;\n",
              "    }\n",
              "\n",
              "    .dataframe thead th {\n",
              "        text-align: right;\n",
              "    }\n",
              "</style>\n",
              "<table border=\"1\" class=\"dataframe\">\n",
              "  <thead>\n",
              "    <tr style=\"text-align: right;\">\n",
              "      <th></th>\n",
              "      <th>text</th>\n",
              "    </tr>\n",
              "  </thead>\n",
              "  <tbody>\n",
              "    <tr>\n",
              "      <th>0</th>\n",
              "      <td>Cash Withdraw</td>\n",
              "    </tr>\n",
              "    <tr>\n",
              "      <th>1</th>\n",
              "      <td>Cash Withdrawal From A/C No.:</td>\n",
              "    </tr>\n",
              "    <tr>\n",
              "      <th>2</th>\n",
              "      <td>Cash withdraw from Micro Merchant point, MM A/C</td>\n",
              "    </tr>\n",
              "    <tr>\n",
              "      <th>3</th>\n",
              "      <td>Credit Against Merchant Cash Withdraw Service ...</td>\n",
              "    </tr>\n",
              "    <tr>\n",
              "      <th>6</th>\n",
              "      <td>Cash Deposit to A/C No.:</td>\n",
              "    </tr>\n",
              "    <tr>\n",
              "      <th>...</th>\n",
              "      <td>...</td>\n",
              "    </tr>\n",
              "    <tr>\n",
              "      <th>22538287</th>\n",
              "      <td>Guatala Udc</td>\n",
              "    </tr>\n",
              "    <tr>\n",
              "      <th>22539045</th>\n",
              "      <td>Transaction For Fund Transfer. Smart App, Regu...</td>\n",
              "    </tr>\n",
              "    <tr>\n",
              "      <th>22539930</th>\n",
              "      <td>Cash Deposit গারামাসি উল্লী উন্নয়ন</td>\n",
              "    </tr>\n",
              "    <tr>\n",
              "      <th>22543261</th>\n",
              "      <td>আসাদ ভাই এর কাছে জমা  হাজার টাকা</td>\n",
              "    </tr>\n",
              "    <tr>\n",
              "      <th>22544595</th>\n",
              "      <td>গাড়ামাসি পল্লী উন্নয়ন সমবায় সমিতি আস  সেবা  আদ...</td>\n",
              "    </tr>\n",
              "  </tbody>\n",
              "</table>\n",
              "<p>128604 rows × 1 columns</p>\n",
              "</div>\n",
              "      <button class=\"colab-df-convert\" onclick=\"convertToInteractive('df-b7ff990a-0ec6-4d49-96ce-4b4ce696d70b')\"\n",
              "              title=\"Convert this dataframe to an interactive table.\"\n",
              "              style=\"display:none;\">\n",
              "        \n",
              "  <svg xmlns=\"http://www.w3.org/2000/svg\" height=\"24px\"viewBox=\"0 0 24 24\"\n",
              "       width=\"24px\">\n",
              "    <path d=\"M0 0h24v24H0V0z\" fill=\"none\"/>\n",
              "    <path d=\"M18.56 5.44l.94 2.06.94-2.06 2.06-.94-2.06-.94-.94-2.06-.94 2.06-2.06.94zm-11 1L8.5 8.5l.94-2.06 2.06-.94-2.06-.94L8.5 2.5l-.94 2.06-2.06.94zm10 10l.94 2.06.94-2.06 2.06-.94-2.06-.94-.94-2.06-.94 2.06-2.06.94z\"/><path d=\"M17.41 7.96l-1.37-1.37c-.4-.4-.92-.59-1.43-.59-.52 0-1.04.2-1.43.59L10.3 9.45l-7.72 7.72c-.78.78-.78 2.05 0 2.83L4 21.41c.39.39.9.59 1.41.59.51 0 1.02-.2 1.41-.59l7.78-7.78 2.81-2.81c.8-.78.8-2.07 0-2.86zM5.41 20L4 18.59l7.72-7.72 1.47 1.35L5.41 20z\"/>\n",
              "  </svg>\n",
              "      </button>\n",
              "      \n",
              "  <style>\n",
              "    .colab-df-container {\n",
              "      display:flex;\n",
              "      flex-wrap:wrap;\n",
              "      gap: 12px;\n",
              "    }\n",
              "\n",
              "    .colab-df-convert {\n",
              "      background-color: #E8F0FE;\n",
              "      border: none;\n",
              "      border-radius: 50%;\n",
              "      cursor: pointer;\n",
              "      display: none;\n",
              "      fill: #1967D2;\n",
              "      height: 32px;\n",
              "      padding: 0 0 0 0;\n",
              "      width: 32px;\n",
              "    }\n",
              "\n",
              "    .colab-df-convert:hover {\n",
              "      background-color: #E2EBFA;\n",
              "      box-shadow: 0px 1px 2px rgba(60, 64, 67, 0.3), 0px 1px 3px 1px rgba(60, 64, 67, 0.15);\n",
              "      fill: #174EA6;\n",
              "    }\n",
              "\n",
              "    [theme=dark] .colab-df-convert {\n",
              "      background-color: #3B4455;\n",
              "      fill: #D2E3FC;\n",
              "    }\n",
              "\n",
              "    [theme=dark] .colab-df-convert:hover {\n",
              "      background-color: #434B5C;\n",
              "      box-shadow: 0px 1px 3px 1px rgba(0, 0, 0, 0.15);\n",
              "      filter: drop-shadow(0px 1px 2px rgba(0, 0, 0, 0.3));\n",
              "      fill: #FFFFFF;\n",
              "    }\n",
              "  </style>\n",
              "\n",
              "      <script>\n",
              "        const buttonEl =\n",
              "          document.querySelector('#df-b7ff990a-0ec6-4d49-96ce-4b4ce696d70b button.colab-df-convert');\n",
              "        buttonEl.style.display =\n",
              "          google.colab.kernel.accessAllowed ? 'block' : 'none';\n",
              "\n",
              "        async function convertToInteractive(key) {\n",
              "          const element = document.querySelector('#df-b7ff990a-0ec6-4d49-96ce-4b4ce696d70b');\n",
              "          const dataTable =\n",
              "            await google.colab.kernel.invokeFunction('convertToInteractive',\n",
              "                                                     [key], {});\n",
              "          if (!dataTable) return;\n",
              "\n",
              "          const docLinkHtml = 'Like what you see? Visit the ' +\n",
              "            '<a target=\"_blank\" href=https://colab.research.google.com/notebooks/data_table.ipynb>data table notebook</a>'\n",
              "            + ' to learn more about interactive tables.';\n",
              "          element.innerHTML = '';\n",
              "          dataTable['output_type'] = 'display_data';\n",
              "          await google.colab.output.renderOutput(dataTable, element);\n",
              "          const docLink = document.createElement('div');\n",
              "          docLink.innerHTML = docLinkHtml;\n",
              "          element.appendChild(docLink);\n",
              "        }\n",
              "      </script>\n",
              "    </div>\n",
              "  </div>\n",
              "  "
            ],
            "text/plain": [
              "                                                       text\n",
              "0                                             Cash Withdraw\n",
              "1                            Cash Withdrawal From A/C No.: \n",
              "2          Cash withdraw from Micro Merchant point, MM A/C \n",
              "3         Credit Against Merchant Cash Withdraw Service ...\n",
              "6                                 Cash Deposit to A/C No.: \n",
              "...                                                     ...\n",
              "22538287                                       Guatala Udc \n",
              "22539045  Transaction For Fund Transfer. Smart App, Regu...\n",
              "22539930                 Cash Deposit গারামাসি উল্লী উন্নয়ন\n",
              "22543261                  আসাদ ভাই এর কাছে জমা  হাজার টাকা \n",
              "22544595  গাড়ামাসি পল্লী উন্নয়ন সমবায় সমিতি আস  সেবা  আদ...\n",
              "\n",
              "[128604 rows x 1 columns]"
            ]
          },
          "execution_count": 29,
          "metadata": {},
          "output_type": "execute_result"
        }
      ],
      "source": [
        "unique_narrations"
      ]
    },
    {
      "cell_type": "code",
      "execution_count": null,
      "metadata": {
        "colab": {
          "base_uri": "https://localhost:8080/"
        },
        "id": "eD3e4nvtcOg7",
        "outputId": "fd22337d-bfd6-48d2-ee7f-7da92f07116a"
      },
      "outputs": [
        {
          "name": "stdout",
          "output_type": "stream",
          "text": [
            "2023-05-26 09:26:41.728522: I tensorflow/core/platform/cpu_feature_guard.cc:182] This TensorFlow binary is optimized to use available CPU instructions in performance-critical operations.\n",
            "To enable the following instructions: AVX2 FMA, in other operations, rebuild TensorFlow with the appropriate compiler flags.\n",
            "2023-05-26 09:26:42.551124: W tensorflow/compiler/tf2tensorrt/utils/py_utils.cc:38] TF-TRT Warning: Could not find TensorRT\n",
            "Looking in indexes: https://pypi.org/simple, https://us-python.pkg.dev/colab-wheels/public/simple/\n",
            "Collecting en-core-web-lg==3.5.0\n",
            "  Downloading https://github.com/explosion/spacy-models/releases/download/en_core_web_lg-3.5.0/en_core_web_lg-3.5.0-py3-none-any.whl (587.7 MB)\n",
            "\u001b[2K     \u001b[90m━━━━━━━━━━━━━━━━━━━━━━━━━━━━━━━━━━━━━━━\u001b[0m \u001b[32m587.7/587.7 MB\u001b[0m \u001b[31m3.0 MB/s\u001b[0m eta \u001b[36m0:00:00\u001b[0m\n",
            "\u001b[?25hRequirement already satisfied: spacy<3.6.0,>=3.5.0 in /usr/local/lib/python3.10/dist-packages (from en-core-web-lg==3.5.0) (3.5.2)\n",
            "Requirement already satisfied: spacy-legacy<3.1.0,>=3.0.11 in /usr/local/lib/python3.10/dist-packages (from spacy<3.6.0,>=3.5.0->en-core-web-lg==3.5.0) (3.0.12)\n",
            "Requirement already satisfied: spacy-loggers<2.0.0,>=1.0.0 in /usr/local/lib/python3.10/dist-packages (from spacy<3.6.0,>=3.5.0->en-core-web-lg==3.5.0) (1.0.4)\n",
            "Requirement already satisfied: murmurhash<1.1.0,>=0.28.0 in /usr/local/lib/python3.10/dist-packages (from spacy<3.6.0,>=3.5.0->en-core-web-lg==3.5.0) (1.0.9)\n",
            "Requirement already satisfied: cymem<2.1.0,>=2.0.2 in /usr/local/lib/python3.10/dist-packages (from spacy<3.6.0,>=3.5.0->en-core-web-lg==3.5.0) (2.0.7)\n",
            "Requirement already satisfied: preshed<3.1.0,>=3.0.2 in /usr/local/lib/python3.10/dist-packages (from spacy<3.6.0,>=3.5.0->en-core-web-lg==3.5.0) (3.0.8)\n",
            "Requirement already satisfied: thinc<8.2.0,>=8.1.8 in /usr/local/lib/python3.10/dist-packages (from spacy<3.6.0,>=3.5.0->en-core-web-lg==3.5.0) (8.1.9)\n",
            "Requirement already satisfied: wasabi<1.2.0,>=0.9.1 in /usr/local/lib/python3.10/dist-packages (from spacy<3.6.0,>=3.5.0->en-core-web-lg==3.5.0) (1.1.1)\n",
            "Requirement already satisfied: srsly<3.0.0,>=2.4.3 in /usr/local/lib/python3.10/dist-packages (from spacy<3.6.0,>=3.5.0->en-core-web-lg==3.5.0) (2.4.6)\n",
            "Requirement already satisfied: catalogue<2.1.0,>=2.0.6 in /usr/local/lib/python3.10/dist-packages (from spacy<3.6.0,>=3.5.0->en-core-web-lg==3.5.0) (2.0.8)\n",
            "Requirement already satisfied: typer<0.8.0,>=0.3.0 in /usr/local/lib/python3.10/dist-packages (from spacy<3.6.0,>=3.5.0->en-core-web-lg==3.5.0) (0.7.0)\n",
            "Requirement already satisfied: pathy>=0.10.0 in /usr/local/lib/python3.10/dist-packages (from spacy<3.6.0,>=3.5.0->en-core-web-lg==3.5.0) (0.10.1)\n",
            "Requirement already satisfied: smart-open<7.0.0,>=5.2.1 in /usr/local/lib/python3.10/dist-packages (from spacy<3.6.0,>=3.5.0->en-core-web-lg==3.5.0) (6.3.0)\n",
            "Requirement already satisfied: tqdm<5.0.0,>=4.38.0 in /usr/local/lib/python3.10/dist-packages (from spacy<3.6.0,>=3.5.0->en-core-web-lg==3.5.0) (4.65.0)\n",
            "Requirement already satisfied: numpy>=1.15.0 in /usr/local/lib/python3.10/dist-packages (from spacy<3.6.0,>=3.5.0->en-core-web-lg==3.5.0) (1.22.4)\n",
            "Requirement already satisfied: requests<3.0.0,>=2.13.0 in /usr/local/lib/python3.10/dist-packages (from spacy<3.6.0,>=3.5.0->en-core-web-lg==3.5.0) (2.27.1)\n",
            "Requirement already satisfied: pydantic!=1.8,!=1.8.1,<1.11.0,>=1.7.4 in /usr/local/lib/python3.10/dist-packages (from spacy<3.6.0,>=3.5.0->en-core-web-lg==3.5.0) (1.10.7)\n",
            "Requirement already satisfied: jinja2 in /usr/local/lib/python3.10/dist-packages (from spacy<3.6.0,>=3.5.0->en-core-web-lg==3.5.0) (3.1.2)\n",
            "Requirement already satisfied: setuptools in /usr/local/lib/python3.10/dist-packages (from spacy<3.6.0,>=3.5.0->en-core-web-lg==3.5.0) (67.7.2)\n",
            "Requirement already satisfied: packaging>=20.0 in /usr/local/lib/python3.10/dist-packages (from spacy<3.6.0,>=3.5.0->en-core-web-lg==3.5.0) (23.1)\n",
            "Requirement already satisfied: langcodes<4.0.0,>=3.2.0 in /usr/local/lib/python3.10/dist-packages (from spacy<3.6.0,>=3.5.0->en-core-web-lg==3.5.0) (3.3.0)\n",
            "Requirement already satisfied: typing-extensions>=4.2.0 in /usr/local/lib/python3.10/dist-packages (from pydantic!=1.8,!=1.8.1,<1.11.0,>=1.7.4->spacy<3.6.0,>=3.5.0->en-core-web-lg==3.5.0) (4.5.0)\n",
            "Requirement already satisfied: urllib3<1.27,>=1.21.1 in /usr/local/lib/python3.10/dist-packages (from requests<3.0.0,>=2.13.0->spacy<3.6.0,>=3.5.0->en-core-web-lg==3.5.0) (1.26.15)\n",
            "Requirement already satisfied: certifi>=2017.4.17 in /usr/local/lib/python3.10/dist-packages (from requests<3.0.0,>=2.13.0->spacy<3.6.0,>=3.5.0->en-core-web-lg==3.5.0) (2022.12.7)\n",
            "Requirement already satisfied: charset-normalizer~=2.0.0 in /usr/local/lib/python3.10/dist-packages (from requests<3.0.0,>=2.13.0->spacy<3.6.0,>=3.5.0->en-core-web-lg==3.5.0) (2.0.12)\n",
            "Requirement already satisfied: idna<4,>=2.5 in /usr/local/lib/python3.10/dist-packages (from requests<3.0.0,>=2.13.0->spacy<3.6.0,>=3.5.0->en-core-web-lg==3.5.0) (3.4)\n",
            "Requirement already satisfied: blis<0.8.0,>=0.7.8 in /usr/local/lib/python3.10/dist-packages (from thinc<8.2.0,>=8.1.8->spacy<3.6.0,>=3.5.0->en-core-web-lg==3.5.0) (0.7.9)\n",
            "Requirement already satisfied: confection<1.0.0,>=0.0.1 in /usr/local/lib/python3.10/dist-packages (from thinc<8.2.0,>=8.1.8->spacy<3.6.0,>=3.5.0->en-core-web-lg==3.5.0) (0.0.4)\n",
            "Requirement already satisfied: click<9.0.0,>=7.1.1 in /usr/local/lib/python3.10/dist-packages (from typer<0.8.0,>=0.3.0->spacy<3.6.0,>=3.5.0->en-core-web-lg==3.5.0) (8.1.3)\n",
            "Requirement already satisfied: MarkupSafe>=2.0 in /usr/local/lib/python3.10/dist-packages (from jinja2->spacy<3.6.0,>=3.5.0->en-core-web-lg==3.5.0) (2.1.2)\n",
            "Installing collected packages: en-core-web-lg\n",
            "Successfully installed en-core-web-lg-3.5.0\n",
            "\u001b[38;5;2m✔ Download and installation successful\u001b[0m\n",
            "You can now load the package via spacy.load('en_core_web_lg')\n"
          ]
        }
      ],
      "source": [
        "! python -m spacy download en_core_web_lg"
      ]
    },
    {
      "cell_type": "code",
      "execution_count": null,
      "metadata": {
        "id": "RCyvs4LtYkcE"
      },
      "outputs": [],
      "source": [
        "import spacy\n",
        "from spacy import displacy\n",
        "from spacy import tokenizer\n",
        "import en_core_web_lg\n",
        "nlp = en_core_web_lg.load()\n"
      ]
    },
    {
      "cell_type": "code",
      "execution_count": null,
      "metadata": {
        "colab": {
          "base_uri": "https://localhost:8080/"
        },
        "id": "KEIpObLxYcDB",
        "outputId": "dfe42be4-92bd-462e-c023-788f9c31de84"
      },
      "outputs": [
        {
          "name": "stdout",
          "output_type": "stream",
          "text": [
            "Abdur Rahman is an employee\n"
          ]
        }
      ],
      "source": [
        "text = 'Abdur Rahman is an employee'\n",
        "doc = nlp(text)\n",
        "print(doc)"
      ]
    },
    {
      "cell_type": "code",
      "execution_count": null,
      "metadata": {
        "colab": {
          "base_uri": "https://localhost:8080/"
        },
        "id": "BjSAqUXJZBHB",
        "outputId": "af59c4cc-5f57-43aa-822b-f7ea300c1c26"
      },
      "outputs": [
        {
          "data": {
            "text/plain": [
              "[Abdur Rahman]"
            ]
          },
          "execution_count": 22,
          "metadata": {},
          "output_type": "execute_result"
        }
      ],
      "source": [
        "list(doc.ents)"
      ]
    },
    {
      "cell_type": "code",
      "execution_count": null,
      "metadata": {
        "colab": {
          "base_uri": "https://localhost:8080/"
        },
        "id": "KYfWPakqZ98k",
        "outputId": "c02532bf-7acd-43a5-b266-41163157a914"
      },
      "outputs": [
        {
          "name": "stdout",
          "output_type": "stream",
          "text": [
            "Abdur\n",
            "Rahman\n",
            "is\n",
            "an\n",
            "employee\n"
          ]
        }
      ],
      "source": [
        "for x in doc:\n",
        "  print(x)"
      ]
    },
    {
      "cell_type": "code",
      "execution_count": null,
      "metadata": {
        "id": "D8wWkMska_RV"
      },
      "outputs": [],
      "source": [
        "def removeEntity(s):\n",
        "  s = str(s)\n",
        "  doc = nlp(s)\n",
        "  names = [x.text for x in doc.ents]\n",
        "  # print(names)\n",
        "  for n in names:\n",
        "    s = s.replace(str(n),'')\n",
        "  return s"
      ]
    },
    {
      "cell_type": "code",
      "execution_count": null,
      "metadata": {
        "id": "ZWSEzZj7blZP"
      },
      "outputs": [],
      "source": [
        "unique_narrations_nr = unique_narrations.copy(deep=True)\n",
        "unique_narrations_nr['text'] = unique_narrations_nr['text'].apply(removeEntity)"
      ]
    },
    {
      "cell_type": "code",
      "execution_count": null,
      "metadata": {
        "colab": {
          "base_uri": "https://localhost:8080/",
          "height": 672
        },
        "id": "AONEPmyehpQx",
        "outputId": "f40b407c-8792-4e91-ade0-d8b9d2038540"
      },
      "outputs": [
        {
          "data": {
            "text/html": [
              "\n",
              "  <div id=\"df-68b39677-53a9-443c-be45-2a0061945323\">\n",
              "    <div class=\"colab-df-container\">\n",
              "      <div>\n",
              "<style scoped>\n",
              "    .dataframe tbody tr th:only-of-type {\n",
              "        vertical-align: middle;\n",
              "    }\n",
              "\n",
              "    .dataframe tbody tr th {\n",
              "        vertical-align: top;\n",
              "    }\n",
              "\n",
              "    .dataframe thead th {\n",
              "        text-align: right;\n",
              "    }\n",
              "</style>\n",
              "<table border=\"1\" class=\"dataframe\">\n",
              "  <thead>\n",
              "    <tr style=\"text-align: right;\">\n",
              "      <th></th>\n",
              "      <th>text</th>\n",
              "    </tr>\n",
              "  </thead>\n",
              "  <tbody>\n",
              "    <tr>\n",
              "      <th>0</th>\n",
              "      <td>Cash Withdraw</td>\n",
              "    </tr>\n",
              "    <tr>\n",
              "      <th>1</th>\n",
              "      <td>Cash Withdrawal From A/C No.:</td>\n",
              "    </tr>\n",
              "    <tr>\n",
              "      <th>2</th>\n",
              "      <td>Cash withdraw from  point, /C</td>\n",
              "    </tr>\n",
              "    <tr>\n",
              "      <th>3</th>\n",
              "      <td>Credit Against Merchant Cash Withdraw Service ...</td>\n",
              "    </tr>\n",
              "    <tr>\n",
              "      <th>6</th>\n",
              "      <td>Cash Deposit to A/C No.:</td>\n",
              "    </tr>\n",
              "    <tr>\n",
              "      <th>...</th>\n",
              "      <td>...</td>\n",
              "    </tr>\n",
              "    <tr>\n",
              "      <th>22538287</th>\n",
              "      <td></td>\n",
              "    </tr>\n",
              "    <tr>\n",
              "      <th>22539045</th>\n",
              "      <td>. , Regular Fund Transfer To A/C: .</td>\n",
              "    </tr>\n",
              "    <tr>\n",
              "      <th>22539930</th>\n",
              "      <td>Cash Deposit গারামাসি উল্লী উন্নয়ন</td>\n",
              "    </tr>\n",
              "    <tr>\n",
              "      <th>22543261</th>\n",
              "      <td>আসাদ  এর কাছে জমা</td>\n",
              "    </tr>\n",
              "    <tr>\n",
              "      <th>22544595</th>\n",
              "      <td>গাড়ামাসি পল্লী উন্নয়ন  সমিতি আস  সেবা</td>\n",
              "    </tr>\n",
              "  </tbody>\n",
              "</table>\n",
              "<p>128604 rows × 1 columns</p>\n",
              "</div>\n",
              "      <button class=\"colab-df-convert\" onclick=\"convertToInteractive('df-68b39677-53a9-443c-be45-2a0061945323')\"\n",
              "              title=\"Convert this dataframe to an interactive table.\"\n",
              "              style=\"display:none;\">\n",
              "        \n",
              "  <svg xmlns=\"http://www.w3.org/2000/svg\" height=\"24px\"viewBox=\"0 0 24 24\"\n",
              "       width=\"24px\">\n",
              "    <path d=\"M0 0h24v24H0V0z\" fill=\"none\"/>\n",
              "    <path d=\"M18.56 5.44l.94 2.06.94-2.06 2.06-.94-2.06-.94-.94-2.06-.94 2.06-2.06.94zm-11 1L8.5 8.5l.94-2.06 2.06-.94-2.06-.94L8.5 2.5l-.94 2.06-2.06.94zm10 10l.94 2.06.94-2.06 2.06-.94-2.06-.94-.94-2.06-.94 2.06-2.06.94z\"/><path d=\"M17.41 7.96l-1.37-1.37c-.4-.4-.92-.59-1.43-.59-.52 0-1.04.2-1.43.59L10.3 9.45l-7.72 7.72c-.78.78-.78 2.05 0 2.83L4 21.41c.39.39.9.59 1.41.59.51 0 1.02-.2 1.41-.59l7.78-7.78 2.81-2.81c.8-.78.8-2.07 0-2.86zM5.41 20L4 18.59l7.72-7.72 1.47 1.35L5.41 20z\"/>\n",
              "  </svg>\n",
              "      </button>\n",
              "      \n",
              "  <style>\n",
              "    .colab-df-container {\n",
              "      display:flex;\n",
              "      flex-wrap:wrap;\n",
              "      gap: 12px;\n",
              "    }\n",
              "\n",
              "    .colab-df-convert {\n",
              "      background-color: #E8F0FE;\n",
              "      border: none;\n",
              "      border-radius: 50%;\n",
              "      cursor: pointer;\n",
              "      display: none;\n",
              "      fill: #1967D2;\n",
              "      height: 32px;\n",
              "      padding: 0 0 0 0;\n",
              "      width: 32px;\n",
              "    }\n",
              "\n",
              "    .colab-df-convert:hover {\n",
              "      background-color: #E2EBFA;\n",
              "      box-shadow: 0px 1px 2px rgba(60, 64, 67, 0.3), 0px 1px 3px 1px rgba(60, 64, 67, 0.15);\n",
              "      fill: #174EA6;\n",
              "    }\n",
              "\n",
              "    [theme=dark] .colab-df-convert {\n",
              "      background-color: #3B4455;\n",
              "      fill: #D2E3FC;\n",
              "    }\n",
              "\n",
              "    [theme=dark] .colab-df-convert:hover {\n",
              "      background-color: #434B5C;\n",
              "      box-shadow: 0px 1px 3px 1px rgba(0, 0, 0, 0.15);\n",
              "      filter: drop-shadow(0px 1px 2px rgba(0, 0, 0, 0.3));\n",
              "      fill: #FFFFFF;\n",
              "    }\n",
              "  </style>\n",
              "\n",
              "      <script>\n",
              "        const buttonEl =\n",
              "          document.querySelector('#df-68b39677-53a9-443c-be45-2a0061945323 button.colab-df-convert');\n",
              "        buttonEl.style.display =\n",
              "          google.colab.kernel.accessAllowed ? 'block' : 'none';\n",
              "\n",
              "        async function convertToInteractive(key) {\n",
              "          const element = document.querySelector('#df-68b39677-53a9-443c-be45-2a0061945323');\n",
              "          const dataTable =\n",
              "            await google.colab.kernel.invokeFunction('convertToInteractive',\n",
              "                                                     [key], {});\n",
              "          if (!dataTable) return;\n",
              "\n",
              "          const docLinkHtml = 'Like what you see? Visit the ' +\n",
              "            '<a target=\"_blank\" href=https://colab.research.google.com/notebooks/data_table.ipynb>data table notebook</a>'\n",
              "            + ' to learn more about interactive tables.';\n",
              "          element.innerHTML = '';\n",
              "          dataTable['output_type'] = 'display_data';\n",
              "          await google.colab.output.renderOutput(dataTable, element);\n",
              "          const docLink = document.createElement('div');\n",
              "          docLink.innerHTML = docLinkHtml;\n",
              "          element.appendChild(docLink);\n",
              "        }\n",
              "      </script>\n",
              "    </div>\n",
              "  </div>\n",
              "  "
            ],
            "text/plain": [
              "                                                       text\n",
              "0                                             Cash Withdraw\n",
              "1                            Cash Withdrawal From A/C No.: \n",
              "2                            Cash withdraw from  point, /C \n",
              "3         Credit Against Merchant Cash Withdraw Service ...\n",
              "6                                 Cash Deposit to A/C No.: \n",
              "...                                                     ...\n",
              "22538287                                                   \n",
              "22539045               . , Regular Fund Transfer To A/C: . \n",
              "22539930                 Cash Deposit গারামাসি উল্লী উন্নয়ন\n",
              "22543261                               আসাদ  এর কাছে জমা   \n",
              "22544595          গাড়ামাসি পল্লী উন্নয়ন  সমিতি আস  সেবা    \n",
              "\n",
              "[128604 rows x 1 columns]"
            ]
          },
          "execution_count": 47,
          "metadata": {},
          "output_type": "execute_result"
        },
        {
          "name": "stdout",
          "output_type": "stream",
          "text": [
            "Warning: total number of rows (128604) exceeds max_rows (20000). Limiting to first (20000) rows.\n"
          ]
        }
      ],
      "source": [
        "unique_narrations_nr"
      ]
    },
    {
      "cell_type": "code",
      "execution_count": null,
      "metadata": {
        "colab": {
          "base_uri": "https://localhost:8080/",
          "height": 672
        },
        "id": "55E1u3CxiVc1",
        "outputId": "cd72f07f-7785-4263-b074-447a016480e4"
      },
      "outputs": [
        {
          "data": {
            "text/html": [
              "\n",
              "  <div id=\"df-8a0cef90-7cad-4c90-aa26-32caeb803ab6\">\n",
              "    <div class=\"colab-df-container\">\n",
              "      <div>\n",
              "<style scoped>\n",
              "    .dataframe tbody tr th:only-of-type {\n",
              "        vertical-align: middle;\n",
              "    }\n",
              "\n",
              "    .dataframe tbody tr th {\n",
              "        vertical-align: top;\n",
              "    }\n",
              "\n",
              "    .dataframe thead th {\n",
              "        text-align: right;\n",
              "    }\n",
              "</style>\n",
              "<table border=\"1\" class=\"dataframe\">\n",
              "  <thead>\n",
              "    <tr style=\"text-align: right;\">\n",
              "      <th></th>\n",
              "      <th>text</th>\n",
              "    </tr>\n",
              "  </thead>\n",
              "  <tbody>\n",
              "    <tr>\n",
              "      <th>0</th>\n",
              "      <td>Cash Withdraw</td>\n",
              "    </tr>\n",
              "    <tr>\n",
              "      <th>1</th>\n",
              "      <td>Cash Withdrawal From A/C No.:</td>\n",
              "    </tr>\n",
              "    <tr>\n",
              "      <th>2</th>\n",
              "      <td>Cash withdraw from Micro Merchant point, MM A/C</td>\n",
              "    </tr>\n",
              "    <tr>\n",
              "      <th>3</th>\n",
              "      <td>Credit Against Merchant Cash Withdraw Service ...</td>\n",
              "    </tr>\n",
              "    <tr>\n",
              "      <th>6</th>\n",
              "      <td>Cash Deposit to A/C No.:</td>\n",
              "    </tr>\n",
              "    <tr>\n",
              "      <th>...</th>\n",
              "      <td>...</td>\n",
              "    </tr>\n",
              "    <tr>\n",
              "      <th>22538287</th>\n",
              "      <td>Guatala Udc</td>\n",
              "    </tr>\n",
              "    <tr>\n",
              "      <th>22539045</th>\n",
              "      <td>Transaction For Fund Transfer. Smart App, Regu...</td>\n",
              "    </tr>\n",
              "    <tr>\n",
              "      <th>22539930</th>\n",
              "      <td>Cash Deposit গারামাসি উল্লী উন্নয়ন</td>\n",
              "    </tr>\n",
              "    <tr>\n",
              "      <th>22543261</th>\n",
              "      <td>আসাদ ভাই এর কাছে জমা  হাজার টাকা</td>\n",
              "    </tr>\n",
              "    <tr>\n",
              "      <th>22544595</th>\n",
              "      <td>গাড়ামাসি পল্লী উন্নয়ন সমবায় সমিতি আস  সেবা  আদ...</td>\n",
              "    </tr>\n",
              "  </tbody>\n",
              "</table>\n",
              "<p>128604 rows × 1 columns</p>\n",
              "</div>\n",
              "      <button class=\"colab-df-convert\" onclick=\"convertToInteractive('df-8a0cef90-7cad-4c90-aa26-32caeb803ab6')\"\n",
              "              title=\"Convert this dataframe to an interactive table.\"\n",
              "              style=\"display:none;\">\n",
              "        \n",
              "  <svg xmlns=\"http://www.w3.org/2000/svg\" height=\"24px\"viewBox=\"0 0 24 24\"\n",
              "       width=\"24px\">\n",
              "    <path d=\"M0 0h24v24H0V0z\" fill=\"none\"/>\n",
              "    <path d=\"M18.56 5.44l.94 2.06.94-2.06 2.06-.94-2.06-.94-.94-2.06-.94 2.06-2.06.94zm-11 1L8.5 8.5l.94-2.06 2.06-.94-2.06-.94L8.5 2.5l-.94 2.06-2.06.94zm10 10l.94 2.06.94-2.06 2.06-.94-2.06-.94-.94-2.06-.94 2.06-2.06.94z\"/><path d=\"M17.41 7.96l-1.37-1.37c-.4-.4-.92-.59-1.43-.59-.52 0-1.04.2-1.43.59L10.3 9.45l-7.72 7.72c-.78.78-.78 2.05 0 2.83L4 21.41c.39.39.9.59 1.41.59.51 0 1.02-.2 1.41-.59l7.78-7.78 2.81-2.81c.8-.78.8-2.07 0-2.86zM5.41 20L4 18.59l7.72-7.72 1.47 1.35L5.41 20z\"/>\n",
              "  </svg>\n",
              "      </button>\n",
              "      \n",
              "  <style>\n",
              "    .colab-df-container {\n",
              "      display:flex;\n",
              "      flex-wrap:wrap;\n",
              "      gap: 12px;\n",
              "    }\n",
              "\n",
              "    .colab-df-convert {\n",
              "      background-color: #E8F0FE;\n",
              "      border: none;\n",
              "      border-radius: 50%;\n",
              "      cursor: pointer;\n",
              "      display: none;\n",
              "      fill: #1967D2;\n",
              "      height: 32px;\n",
              "      padding: 0 0 0 0;\n",
              "      width: 32px;\n",
              "    }\n",
              "\n",
              "    .colab-df-convert:hover {\n",
              "      background-color: #E2EBFA;\n",
              "      box-shadow: 0px 1px 2px rgba(60, 64, 67, 0.3), 0px 1px 3px 1px rgba(60, 64, 67, 0.15);\n",
              "      fill: #174EA6;\n",
              "    }\n",
              "\n",
              "    [theme=dark] .colab-df-convert {\n",
              "      background-color: #3B4455;\n",
              "      fill: #D2E3FC;\n",
              "    }\n",
              "\n",
              "    [theme=dark] .colab-df-convert:hover {\n",
              "      background-color: #434B5C;\n",
              "      box-shadow: 0px 1px 3px 1px rgba(0, 0, 0, 0.15);\n",
              "      filter: drop-shadow(0px 1px 2px rgba(0, 0, 0, 0.3));\n",
              "      fill: #FFFFFF;\n",
              "    }\n",
              "  </style>\n",
              "\n",
              "      <script>\n",
              "        const buttonEl =\n",
              "          document.querySelector('#df-8a0cef90-7cad-4c90-aa26-32caeb803ab6 button.colab-df-convert');\n",
              "        buttonEl.style.display =\n",
              "          google.colab.kernel.accessAllowed ? 'block' : 'none';\n",
              "\n",
              "        async function convertToInteractive(key) {\n",
              "          const element = document.querySelector('#df-8a0cef90-7cad-4c90-aa26-32caeb803ab6');\n",
              "          const dataTable =\n",
              "            await google.colab.kernel.invokeFunction('convertToInteractive',\n",
              "                                                     [key], {});\n",
              "          if (!dataTable) return;\n",
              "\n",
              "          const docLinkHtml = 'Like what you see? Visit the ' +\n",
              "            '<a target=\"_blank\" href=https://colab.research.google.com/notebooks/data_table.ipynb>data table notebook</a>'\n",
              "            + ' to learn more about interactive tables.';\n",
              "          element.innerHTML = '';\n",
              "          dataTable['output_type'] = 'display_data';\n",
              "          await google.colab.output.renderOutput(dataTable, element);\n",
              "          const docLink = document.createElement('div');\n",
              "          docLink.innerHTML = docLinkHtml;\n",
              "          element.appendChild(docLink);\n",
              "        }\n",
              "      </script>\n",
              "    </div>\n",
              "  </div>\n",
              "  "
            ],
            "text/plain": [
              "                                                       text\n",
              "0                                             Cash Withdraw\n",
              "1                            Cash Withdrawal From A/C No.: \n",
              "2          Cash withdraw from Micro Merchant point, MM A/C \n",
              "3         Credit Against Merchant Cash Withdraw Service ...\n",
              "6                                 Cash Deposit to A/C No.: \n",
              "...                                                     ...\n",
              "22538287                                       Guatala Udc \n",
              "22539045  Transaction For Fund Transfer. Smart App, Regu...\n",
              "22539930                 Cash Deposit গারামাসি উল্লী উন্নয়ন\n",
              "22543261                  আসাদ ভাই এর কাছে জমা  হাজার টাকা \n",
              "22544595  গাড়ামাসি পল্লী উন্নয়ন সমবায় সমিতি আস  সেবা  আদ...\n",
              "\n",
              "[128604 rows x 1 columns]"
            ]
          },
          "execution_count": 49,
          "metadata": {},
          "output_type": "execute_result"
        },
        {
          "name": "stdout",
          "output_type": "stream",
          "text": [
            "Warning: total number of rows (128604) exceeds max_rows (20000). Limiting to first (20000) rows.\n"
          ]
        }
      ],
      "source": [
        "unique_narrations"
      ]
    },
    {
      "cell_type": "code",
      "execution_count": null,
      "metadata": {
        "id": "z9KSk9AyVzeE"
      },
      "outputs": [],
      "source": [
        "SAMP_CNT = 10"
      ]
    }
  ],
  "metadata": {
    "colab": {
      "collapsed_sections": [
        "fZ0JxjlSXb-I",
        "pHIX42MA-QP6",
        "8v4vZDQmWivF",
        "QFZOxBeoGV-U",
        "gYuczUrwKauO",
        "ymFv-f4OCkh0",
        "vuXqk8IcPOxN",
        "_FgkW_vRC7dC",
        "jGEy3v_qcInD",
        "EQJQ3qMIYZDy"
      ],
      "provenance": []
    },
    "kernelspec": {
      "display_name": "Python 3",
      "name": "python3"
    },
    "language_info": {
      "name": "python"
    }
  },
  "nbformat": 4,
  "nbformat_minor": 0
}
